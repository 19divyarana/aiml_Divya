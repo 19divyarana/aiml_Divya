{
 "cells": [
  {
   "cell_type": "code",
   "execution_count": 1,
   "id": "776fb5a9-0311-491e-8469-6741aa09c04e",
   "metadata": {},
   "outputs": [],
   "source": [
    "import pandas as pd\n",
    "import numpy as np"
   ]
  },
  {
   "cell_type": "code",
   "execution_count": 11,
   "id": "336baf53-6715-4c96-8c49-9867c16c4461",
   "metadata": {},
   "outputs": [
    {
     "data": {
      "text/html": [
       "<div>\n",
       "<style scoped>\n",
       "    .dataframe tbody tr th:only-of-type {\n",
       "        vertical-align: middle;\n",
       "    }\n",
       "\n",
       "    .dataframe tbody tr th {\n",
       "        vertical-align: top;\n",
       "    }\n",
       "\n",
       "    .dataframe thead th {\n",
       "        text-align: right;\n",
       "    }\n",
       "</style>\n",
       "<table border=\"1\" class=\"dataframe\">\n",
       "  <thead>\n",
       "    <tr style=\"text-align: right;\">\n",
       "      <th></th>\n",
       "      <th>Date</th>\n",
       "      <th>Product</th>\n",
       "      <th>Region</th>\n",
       "      <th>Sales</th>\n",
       "      <th>Profit</th>\n",
       "      <th>Quantity</th>\n",
       "    </tr>\n",
       "  </thead>\n",
       "  <tbody>\n",
       "    <tr>\n",
       "      <th>0</th>\n",
       "      <td>2023-01-02</td>\n",
       "      <td>Tablet</td>\n",
       "      <td>East</td>\n",
       "      <td>1061.81</td>\n",
       "      <td>236.12</td>\n",
       "      <td>7</td>\n",
       "    </tr>\n",
       "    <tr>\n",
       "      <th>1</th>\n",
       "      <td>2023-01-06</td>\n",
       "      <td>Laptop</td>\n",
       "      <td>North</td>\n",
       "      <td>1926.07</td>\n",
       "      <td>246.34</td>\n",
       "      <td>8</td>\n",
       "    </tr>\n",
       "    <tr>\n",
       "      <th>2</th>\n",
       "      <td>2023-01-03</td>\n",
       "      <td>Tablet</td>\n",
       "      <td>East</td>\n",
       "      <td>1597.99</td>\n",
       "      <td>253.17</td>\n",
       "      <td>3</td>\n",
       "    </tr>\n",
       "    <tr>\n",
       "      <th>3</th>\n",
       "      <td>2023-01-20</td>\n",
       "      <td>Tablet</td>\n",
       "      <td>North</td>\n",
       "      <td>1397.99</td>\n",
       "      <td>242.23</td>\n",
       "      <td>1</td>\n",
       "    </tr>\n",
       "    <tr>\n",
       "      <th>4</th>\n",
       "      <td>2023-01-04</td>\n",
       "      <td>Laptop</td>\n",
       "      <td>West</td>\n",
       "      <td>734.03</td>\n",
       "      <td>140.36</td>\n",
       "      <td>4</td>\n",
       "    </tr>\n",
       "    <tr>\n",
       "      <th>5</th>\n",
       "      <td>2023-01-17</td>\n",
       "      <td>Tablet</td>\n",
       "      <td>North</td>\n",
       "      <td>733.99</td>\n",
       "      <td>188.66</td>\n",
       "      <td>2</td>\n",
       "    </tr>\n",
       "    <tr>\n",
       "      <th>6</th>\n",
       "      <td>2023-01-14</td>\n",
       "      <td>Keyboard</td>\n",
       "      <td>East</td>\n",
       "      <td>587.13</td>\n",
       "      <td>82.16</td>\n",
       "      <td>8</td>\n",
       "    </tr>\n",
       "    <tr>\n",
       "      <th>7</th>\n",
       "      <td>2023-01-07</td>\n",
       "      <td>Smartphone</td>\n",
       "      <td>East</td>\n",
       "      <td>1799.26</td>\n",
       "      <td>364.97</td>\n",
       "      <td>4</td>\n",
       "    </tr>\n",
       "    <tr>\n",
       "      <th>8</th>\n",
       "      <td>2023-01-11</td>\n",
       "      <td>Smartphone</td>\n",
       "      <td>West</td>\n",
       "      <td>1401.67</td>\n",
       "      <td>306.24</td>\n",
       "      <td>2</td>\n",
       "    </tr>\n",
       "    <tr>\n",
       "      <th>9</th>\n",
       "      <td>2023-01-01</td>\n",
       "      <td>Laptop</td>\n",
       "      <td>North</td>\n",
       "      <td>1562.11</td>\n",
       "      <td>170.72</td>\n",
       "      <td>6</td>\n",
       "    </tr>\n",
       "    <tr>\n",
       "      <th>10</th>\n",
       "      <td>2023-01-19</td>\n",
       "      <td>Monitor</td>\n",
       "      <td>North</td>\n",
       "      <td>530.88</td>\n",
       "      <td>117.59</td>\n",
       "      <td>6</td>\n",
       "    </tr>\n",
       "    <tr>\n",
       "      <th>11</th>\n",
       "      <td>2023-01-12</td>\n",
       "      <td>Laptop</td>\n",
       "      <td>West</td>\n",
       "      <td>1954.86</td>\n",
       "      <td>262.16</td>\n",
       "      <td>4</td>\n",
       "    </tr>\n",
       "    <tr>\n",
       "      <th>12</th>\n",
       "      <td>2023-01-09</td>\n",
       "      <td>Monitor</td>\n",
       "      <td>North</td>\n",
       "      <td>1748.66</td>\n",
       "      <td>197.62</td>\n",
       "      <td>6</td>\n",
       "    </tr>\n",
       "    <tr>\n",
       "      <th>13</th>\n",
       "      <td>2023-01-10</td>\n",
       "      <td>Smartphone</td>\n",
       "      <td>North</td>\n",
       "      <td>818.51</td>\n",
       "      <td>237.19</td>\n",
       "      <td>2</td>\n",
       "    </tr>\n",
       "    <tr>\n",
       "      <th>14</th>\n",
       "      <td>2023-01-08</td>\n",
       "      <td>Laptop</td>\n",
       "      <td>East</td>\n",
       "      <td>772.74</td>\n",
       "      <td>226.51</td>\n",
       "      <td>2</td>\n",
       "    </tr>\n",
       "    <tr>\n",
       "      <th>15</th>\n",
       "      <td>2023-01-05</td>\n",
       "      <td>Keyboard</td>\n",
       "      <td>North</td>\n",
       "      <td>775.11</td>\n",
       "      <td>202.83</td>\n",
       "      <td>4</td>\n",
       "    </tr>\n",
       "    <tr>\n",
       "      <th>16</th>\n",
       "      <td>2023-01-15</td>\n",
       "      <td>Tablet</td>\n",
       "      <td>North</td>\n",
       "      <td>956.36</td>\n",
       "      <td>153.90</td>\n",
       "      <td>8</td>\n",
       "    </tr>\n",
       "    <tr>\n",
       "      <th>17</th>\n",
       "      <td>2023-01-18</td>\n",
       "      <td>Monitor</td>\n",
       "      <td>West</td>\n",
       "      <td>1287.13</td>\n",
       "      <td>153.86</td>\n",
       "      <td>7</td>\n",
       "    </tr>\n",
       "    <tr>\n",
       "      <th>18</th>\n",
       "      <td>2023-01-13</td>\n",
       "      <td>Tablet</td>\n",
       "      <td>West</td>\n",
       "      <td>1147.92</td>\n",
       "      <td>271.88</td>\n",
       "      <td>9</td>\n",
       "    </tr>\n",
       "    <tr>\n",
       "      <th>19</th>\n",
       "      <td>2023-01-16</td>\n",
       "      <td>Tablet</td>\n",
       "      <td>South</td>\n",
       "      <td>936.84</td>\n",
       "      <td>176.15</td>\n",
       "      <td>8</td>\n",
       "    </tr>\n",
       "  </tbody>\n",
       "</table>\n",
       "</div>"
      ],
      "text/plain": [
       "          Date     Product Region    Sales  Profit  Quantity\n",
       "0   2023-01-02      Tablet   East  1061.81  236.12         7\n",
       "1   2023-01-06      Laptop  North  1926.07  246.34         8\n",
       "2   2023-01-03      Tablet   East  1597.99  253.17         3\n",
       "3   2023-01-20      Tablet  North  1397.99  242.23         1\n",
       "4   2023-01-04      Laptop   West   734.03  140.36         4\n",
       "5   2023-01-17      Tablet  North   733.99  188.66         2\n",
       "6   2023-01-14    Keyboard   East   587.13   82.16         8\n",
       "7   2023-01-07  Smartphone   East  1799.26  364.97         4\n",
       "8   2023-01-11  Smartphone   West  1401.67  306.24         2\n",
       "9   2023-01-01      Laptop  North  1562.11  170.72         6\n",
       "10  2023-01-19     Monitor  North   530.88  117.59         6\n",
       "11  2023-01-12      Laptop   West  1954.86  262.16         4\n",
       "12  2023-01-09     Monitor  North  1748.66  197.62         6\n",
       "13  2023-01-10  Smartphone  North   818.51  237.19         2\n",
       "14  2023-01-08      Laptop   East   772.74  226.51         2\n",
       "15  2023-01-05    Keyboard  North   775.11  202.83         4\n",
       "16  2023-01-15      Tablet  North   956.36  153.90         8\n",
       "17  2023-01-18     Monitor   West  1287.13  153.86         7\n",
       "18  2023-01-13      Tablet   West  1147.92  271.88         9\n",
       "19  2023-01-16      Tablet  South   936.84  176.15         8"
      ]
     },
     "execution_count": 11,
     "metadata": {},
     "output_type": "execute_result"
    }
   ],
   "source": [
    "data=pd.read_csv(\"Day_7_sales_data.csv\")\n",
    "data"
   ]
  },
  {
   "cell_type": "code",
   "execution_count": 13,
   "id": "b1cbb525-f121-4a66-ad1d-1829db1289a9",
   "metadata": {},
   "outputs": [
    {
     "data": {
      "text/html": [
       "<div>\n",
       "<style scoped>\n",
       "    .dataframe tbody tr th:only-of-type {\n",
       "        vertical-align: middle;\n",
       "    }\n",
       "\n",
       "    .dataframe tbody tr th {\n",
       "        vertical-align: top;\n",
       "    }\n",
       "\n",
       "    .dataframe thead th {\n",
       "        text-align: right;\n",
       "    }\n",
       "</style>\n",
       "<table border=\"1\" class=\"dataframe\">\n",
       "  <thead>\n",
       "    <tr style=\"text-align: right;\">\n",
       "      <th></th>\n",
       "      <th>Date</th>\n",
       "      <th>Product</th>\n",
       "      <th>Region</th>\n",
       "      <th>Sales</th>\n",
       "      <th>Profit</th>\n",
       "      <th>Quantity</th>\n",
       "    </tr>\n",
       "  </thead>\n",
       "  <tbody>\n",
       "    <tr>\n",
       "      <th>0</th>\n",
       "      <td>2023-01-02</td>\n",
       "      <td>Tablet</td>\n",
       "      <td>East</td>\n",
       "      <td>1061.81</td>\n",
       "      <td>236.12</td>\n",
       "      <td>7</td>\n",
       "    </tr>\n",
       "    <tr>\n",
       "      <th>1</th>\n",
       "      <td>2023-01-06</td>\n",
       "      <td>Laptop</td>\n",
       "      <td>North</td>\n",
       "      <td>1926.07</td>\n",
       "      <td>246.34</td>\n",
       "      <td>8</td>\n",
       "    </tr>\n",
       "    <tr>\n",
       "      <th>2</th>\n",
       "      <td>2023-01-03</td>\n",
       "      <td>Tablet</td>\n",
       "      <td>East</td>\n",
       "      <td>1597.99</td>\n",
       "      <td>253.17</td>\n",
       "      <td>3</td>\n",
       "    </tr>\n",
       "    <tr>\n",
       "      <th>3</th>\n",
       "      <td>2023-01-20</td>\n",
       "      <td>Tablet</td>\n",
       "      <td>North</td>\n",
       "      <td>1397.99</td>\n",
       "      <td>242.23</td>\n",
       "      <td>1</td>\n",
       "    </tr>\n",
       "    <tr>\n",
       "      <th>4</th>\n",
       "      <td>2023-01-04</td>\n",
       "      <td>Laptop</td>\n",
       "      <td>West</td>\n",
       "      <td>734.03</td>\n",
       "      <td>140.36</td>\n",
       "      <td>4</td>\n",
       "    </tr>\n",
       "  </tbody>\n",
       "</table>\n",
       "</div>"
      ],
      "text/plain": [
       "         Date Product Region    Sales  Profit  Quantity\n",
       "0  2023-01-02  Tablet   East  1061.81  236.12         7\n",
       "1  2023-01-06  Laptop  North  1926.07  246.34         8\n",
       "2  2023-01-03  Tablet   East  1597.99  253.17         3\n",
       "3  2023-01-20  Tablet  North  1397.99  242.23         1\n",
       "4  2023-01-04  Laptop   West   734.03  140.36         4"
      ]
     },
     "execution_count": 13,
     "metadata": {},
     "output_type": "execute_result"
    }
   ],
   "source": [
    "data.head()"
   ]
  },
  {
   "cell_type": "code",
   "execution_count": 25,
   "id": "dc090d2c-b9a9-4b7b-8629-39b64ad13fb7",
   "metadata": {},
   "outputs": [
    {
     "data": {
      "text/plain": [
       "1186.553"
      ]
     },
     "execution_count": 25,
     "metadata": {},
     "output_type": "execute_result"
    }
   ],
   "source": [
    "mean_value = data['Sales'].mean()\n",
    "mean_value"
   ]
  },
  {
   "cell_type": "code",
   "execution_count": 27,
   "id": "4dadbed7-d609-498e-beee-6e6b1a343fa3",
   "metadata": {},
   "outputs": [
    {
     "data": {
      "text/plain": [
       "211.53300000000004"
      ]
     },
     "execution_count": 27,
     "metadata": {},
     "output_type": "execute_result"
    }
   ],
   "source": [
    "mean_value = data['Profit'].mean()\n",
    "mean_value"
   ]
  },
  {
   "cell_type": "code",
   "execution_count": 29,
   "id": "ef75dec0-8ef8-4c80-899e-d7bb37532432",
   "metadata": {},
   "outputs": [
    {
     "data": {
      "text/plain": [
       "5.05"
      ]
     },
     "execution_count": 29,
     "metadata": {},
     "output_type": "execute_result"
    }
   ],
   "source": [
    "mean_value = data['Quantity'].mean()\n",
    "mean_value"
   ]
  },
  {
   "cell_type": "code",
   "execution_count": 31,
   "id": "39f2f23d-3b16-4c76-8917-c1bed11a8c72",
   "metadata": {},
   "outputs": [
    {
     "data": {
      "text/plain": [
       "1186.553"
      ]
     },
     "execution_count": 31,
     "metadata": {},
     "output_type": "execute_result"
    }
   ],
   "source": [
    "median_value = data['Sales'].mean()\n",
    "median_value"
   ]
  },
  {
   "cell_type": "code",
   "execution_count": 33,
   "id": "83119be3-1c80-4651-b68d-d59b76182475",
   "metadata": {},
   "outputs": [
    {
     "data": {
      "text/plain": [
       "5.05"
      ]
     },
     "execution_count": 33,
     "metadata": {},
     "output_type": "execute_result"
    }
   ],
   "source": [
    "median_value = data['Quantity'].mean()\n",
    "median_value"
   ]
  },
  {
   "cell_type": "code",
   "execution_count": 37,
   "id": "153008e6-532f-4282-b80a-ded39bb4dd43",
   "metadata": {},
   "outputs": [
    {
     "data": {
      "text/plain": [
       "211.53300000000004"
      ]
     },
     "execution_count": 37,
     "metadata": {},
     "output_type": "execute_result"
    }
   ],
   "source": [
    "median_value = data['Profit'].mean()\n",
    "median_value"
   ]
  },
  {
   "cell_type": "code",
   "execution_count": 39,
   "id": "c559adc8-dfe2-4da6-829b-e2e31b4f1b8f",
   "metadata": {},
   "outputs": [
    {
     "data": {
      "text/html": [
       "<div>\n",
       "<style scoped>\n",
       "    .dataframe tbody tr th:only-of-type {\n",
       "        vertical-align: middle;\n",
       "    }\n",
       "\n",
       "    .dataframe tbody tr th {\n",
       "        vertical-align: top;\n",
       "    }\n",
       "\n",
       "    .dataframe thead th {\n",
       "        text-align: right;\n",
       "    }\n",
       "</style>\n",
       "<table border=\"1\" class=\"dataframe\">\n",
       "  <thead>\n",
       "    <tr style=\"text-align: right;\">\n",
       "      <th></th>\n",
       "      <th>Sales</th>\n",
       "      <th>Profit</th>\n",
       "      <th>Quantity</th>\n",
       "    </tr>\n",
       "  </thead>\n",
       "  <tbody>\n",
       "    <tr>\n",
       "      <th>count</th>\n",
       "      <td>20.000000</td>\n",
       "      <td>20.000000</td>\n",
       "      <td>20.000000</td>\n",
       "    </tr>\n",
       "    <tr>\n",
       "      <th>mean</th>\n",
       "      <td>1186.553000</td>\n",
       "      <td>211.533000</td>\n",
       "      <td>5.050000</td>\n",
       "    </tr>\n",
       "    <tr>\n",
       "      <th>std</th>\n",
       "      <td>461.528444</td>\n",
       "      <td>66.916251</td>\n",
       "      <td>2.543826</td>\n",
       "    </tr>\n",
       "    <tr>\n",
       "      <th>min</th>\n",
       "      <td>530.880000</td>\n",
       "      <td>82.160000</td>\n",
       "      <td>1.000000</td>\n",
       "    </tr>\n",
       "    <tr>\n",
       "      <th>25%</th>\n",
       "      <td>774.517500</td>\n",
       "      <td>166.515000</td>\n",
       "      <td>2.750000</td>\n",
       "    </tr>\n",
       "    <tr>\n",
       "      <th>50%</th>\n",
       "      <td>1104.865000</td>\n",
       "      <td>214.670000</td>\n",
       "      <td>5.000000</td>\n",
       "    </tr>\n",
       "    <tr>\n",
       "      <th>75%</th>\n",
       "      <td>1571.080000</td>\n",
       "      <td>248.047500</td>\n",
       "      <td>7.250000</td>\n",
       "    </tr>\n",
       "    <tr>\n",
       "      <th>max</th>\n",
       "      <td>1954.860000</td>\n",
       "      <td>364.970000</td>\n",
       "      <td>9.000000</td>\n",
       "    </tr>\n",
       "  </tbody>\n",
       "</table>\n",
       "</div>"
      ],
      "text/plain": [
       "             Sales      Profit   Quantity\n",
       "count    20.000000   20.000000  20.000000\n",
       "mean   1186.553000  211.533000   5.050000\n",
       "std     461.528444   66.916251   2.543826\n",
       "min     530.880000   82.160000   1.000000\n",
       "25%     774.517500  166.515000   2.750000\n",
       "50%    1104.865000  214.670000   5.000000\n",
       "75%    1571.080000  248.047500   7.250000\n",
       "max    1954.860000  364.970000   9.000000"
      ]
     },
     "execution_count": 39,
     "metadata": {},
     "output_type": "execute_result"
    }
   ],
   "source": [
    "data.describe()"
   ]
  },
  {
   "cell_type": "code",
   "execution_count": null,
   "id": "81683dc7-0ba1-48db-8c39-ce3e104df3c2",
   "metadata": {},
   "outputs": [],
   "source": []
  }
 ],
 "metadata": {
  "kernelspec": {
   "display_name": "Python [conda env:base] *",
   "language": "python",
   "name": "conda-base-py"
  },
  "language_info": {
   "codemirror_mode": {
    "name": "ipython",
    "version": 3
   },
   "file_extension": ".py",
   "mimetype": "text/x-python",
   "name": "python",
   "nbconvert_exporter": "python",
   "pygments_lexer": "ipython3",
   "version": "3.12.7"
  }
 },
 "nbformat": 4,
 "nbformat_minor": 5
}
