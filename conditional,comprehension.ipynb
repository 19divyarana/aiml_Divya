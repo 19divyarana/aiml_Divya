{
 "cells": [
  {
   "cell_type": "code",
   "execution_count": null,
   "id": "697c26fa-d187-406f-8e67-f670b545d29d",
   "metadata": {},
   "outputs": [],
   "source": [
    "#short way of writing if else,nested if else,list comprehension,dict conprehension and user defined function\n"
   ]
  },
  {
   "cell_type": "code",
   "execution_count": 3,
   "id": "e180f7f1-3e2d-4787-94eb-a695d6f29089",
   "metadata": {},
   "outputs": [
    {
     "name": "stdin",
     "output_type": "stream",
     "text": [
      " 3\n"
     ]
    },
    {
     "name": "stdout",
     "output_type": "stream",
     "text": [
      "Odd\n"
     ]
    }
   ],
   "source": [
    "num=int(input())\n",
    "if num%2==0:\n",
    "    print(\"even\")\n",
    "else:\n",
    "    print(\"Odd\")"
   ]
  },
  {
   "cell_type": "code",
   "execution_count": 7,
   "id": "2da3a354-a054-4718-826f-a5943bfe9ff3",
   "metadata": {},
   "outputs": [
    {
     "name": "stdin",
     "output_type": "stream",
     "text": [
      " 4\n"
     ]
    },
    {
     "name": "stdout",
     "output_type": "stream",
     "text": [
      "even\n"
     ]
    }
   ],
   "source": [
    "num=int(input())\n",
    "print(\"even\") if num%2==0 else print (\"odd\")"
   ]
  },
  {
   "cell_type": "code",
   "execution_count": 9,
   "id": "437070d9-9551-41a8-a2c7-75e5a13b02ea",
   "metadata": {},
   "outputs": [
    {
     "name": "stdin",
     "output_type": "stream",
     "text": [
      " 45\n"
     ]
    },
    {
     "name": "stdout",
     "output_type": "stream",
     "text": [
      "Positive\n"
     ]
    }
   ],
   "source": [
    "num=int(input())\n",
    "print(\"Positive\") if num>0 else print(\"Negative\")"
   ]
  },
  {
   "cell_type": "code",
   "execution_count": 13,
   "id": "ec4e31d0-8a54-4635-b946-eb8f29579911",
   "metadata": {},
   "outputs": [
    {
     "name": "stdin",
     "output_type": "stream",
     "text": [
      " 0\n"
     ]
    },
    {
     "data": {
      "text/plain": [
       "'Zero'"
      ]
     },
     "execution_count": 13,
     "metadata": {},
     "output_type": "execute_result"
    }
   ],
   "source": [
    "#nested ifelse\n",
    "num=int(input())\n",
    "print(\"Positive\") if num>0 else (\"Negative\" if num<0 else\"Zero\")"
   ]
  },
  {
   "cell_type": "code",
   "execution_count": 15,
   "id": "b66b73b9-1386-4a7f-b6d5-ac8449b6df0a",
   "metadata": {},
   "outputs": [
    {
     "data": {
      "text/plain": [
       "[2, 18, 4, 20, 112, 178]"
      ]
     },
     "execution_count": 15,
     "metadata": {},
     "output_type": "execute_result"
    }
   ],
   "source": [
    "#list comprehension\n",
    "l1=[1,9,2,10,56,89]\n",
    "[2*x for x in l1]\n"
   ]
  },
  {
   "cell_type": "code",
   "execution_count": 21,
   "id": "578fbfbf-13fd-4018-8a9d-854f63145cff",
   "metadata": {},
   "outputs": [
    {
     "data": {
      "text/plain": [
       "[1.5, 8.0, 6.0, 17.5, 22.5, 44.5]"
      ]
     },
     "execution_count": 21,
     "metadata": {},
     "output_type": "execute_result"
    }
   ],
   "source": [
    "l2=[3,16,12,35,45,89]\n",
    "[x/2 for x in l2]"
   ]
  },
  {
   "cell_type": "code",
   "execution_count": 23,
   "id": "72a83af4-7379-4467-98a7-51426d1d5d74",
   "metadata": {},
   "outputs": [
    {
     "data": {
      "text/plain": [
       "[2, 6, 8, 0, 4]"
      ]
     },
     "execution_count": 23,
     "metadata": {},
     "output_type": "execute_result"
    }
   ],
   "source": [
    "l=[2,3,5,6,8,0,4]#even numbers\n",
    "[x for x in l if x%2==0]\n"
   ]
  },
  {
   "cell_type": "code",
   "execution_count": 25,
   "id": "b6ee6c74-d339-4741-9cb8-c3cbd06e3a79",
   "metadata": {},
   "outputs": [
    {
     "data": {
      "text/plain": [
       "[1, 5, 3, 7, 9]"
      ]
     },
     "execution_count": 25,
     "metadata": {},
     "output_type": "execute_result"
    }
   ],
   "source": [
    "l=[1,2,4,5,6,3,7,9]#odd number \n",
    "[x for x in l if x%2 !=0]"
   ]
  },
  {
   "cell_type": "code",
   "execution_count": 35,
   "id": "039520a0-3a39-4818-83ee-afffbc1c0736",
   "metadata": {},
   "outputs": [
    {
     "data": {
      "text/plain": [
       "27.833333333333332"
      ]
     },
     "execution_count": 35,
     "metadata": {},
     "output_type": "execute_result"
    }
   ],
   "source": [
    "l=[1,9,2,10,56,89]#print avg value\n",
    "sum([x for x in l])/len(l) "
   ]
  },
  {
   "cell_type": "code",
   "execution_count": 43,
   "id": "0975e2e4-4378-438d-a1cd-aed219b108d1",
   "metadata": {},
   "outputs": [
    {
     "data": {
      "text/plain": [
       "{'Ram': 84.75, 'John': 74.25}"
      ]
     },
     "execution_count": 43,
     "metadata": {},
     "output_type": "execute_result"
    }
   ],
   "source": [
    "#dict comprehension\n",
    "d1={\"Ram\":[70,71,98,100], \"John\":[56,98,78,65]}\n",
    "d1={k:sum(v)/len(v)for k,v in d1.items()}\n",
    "d1"
   ]
  },
  {
   "cell_type": "code",
   "execution_count": null,
   "id": "b9664a82-6134-4de6-b8ed-0314f7fa7932",
   "metadata": {},
   "outputs": [],
   "source": []
  }
 ],
 "metadata": {
  "kernelspec": {
   "display_name": "Python [conda env:base] *",
   "language": "python",
   "name": "conda-base-py"
  },
  "language_info": {
   "codemirror_mode": {
    "name": "ipython",
    "version": 3
   },
   "file_extension": ".py",
   "mimetype": "text/x-python",
   "name": "python",
   "nbconvert_exporter": "python",
   "pygments_lexer": "ipython3",
   "version": "3.12.7"
  }
 },
 "nbformat": 4,
 "nbformat_minor": 5
}
