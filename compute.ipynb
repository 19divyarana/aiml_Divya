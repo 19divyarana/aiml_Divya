{
 "cells": [
  {
   "cell_type": "code",
   "execution_count": null,
   "id": "2768c60e-f0e4-4086-ad18-3fb1f3ff508d",
   "metadata": {},
   "outputs": [],
   "source": [
    "#computate mean value"
   ]
  },
  {
   "cell_type": "code",
   "execution_count": 7,
   "id": "3da5c81c-9e28-4cdc-9172-2928aca5859b",
   "metadata": {},
   "outputs": [
    {
     "data": {
      "text/plain": [
       "3.0"
      ]
     },
     "execution_count": 7,
     "metadata": {},
     "output_type": "execute_result"
    }
   ],
   "source": [
    "def mean_value(*n):\n",
    "    sum=0\n",
    "    counter=0\n",
    "    for x in n:\n",
    "        counter = counter+1\n",
    "        sum += x \n",
    "    mean = sum/counter\n",
    "    return mean \n",
    "mean_value(1,2,3,4,5)\n"
   ]
  },
  {
   "cell_type": "code",
   "execution_count": null,
   "id": "f297f874-9989-4026-98c8-c7362ba37a8f",
   "metadata": {},
   "outputs": [],
   "source": []
  },
  {
   "cell_type": "code",
   "execution_count": 3,
   "id": "8f6a5b85-0ead-41d9-88da-ea10250ee77e",
   "metadata": {},
   "outputs": [],
   "source": [
    "#find the product of given numbers\n",
    "def product(*n):\n",
    "    res=1\n",
    "    for i in range(len(n)):\n",
    "        res *= n[i]\n",
    "    return res\n",
    "    "
   ]
  },
  {
   "cell_type": "code",
   "execution_count": 5,
   "id": "cf58d20f-044b-4e4e-b3b0-b7202df49aca",
   "metadata": {},
   "outputs": [
    {
     "data": {
      "text/plain": [
       "120"
      ]
     },
     "execution_count": 5,
     "metadata": {},
     "output_type": "execute_result"
    }
   ],
   "source": [
    "product(1,2,3,4,5)"
   ]
  },
  {
   "cell_type": "code",
   "execution_count": null,
   "id": "b79c4b24-e66f-4933-ba7a-3bf85ae9d7ab",
   "metadata": {},
   "outputs": [],
   "source": []
  }
 ],
 "metadata": {
  "kernelspec": {
   "display_name": "Python [conda env:base] *",
   "language": "python",
   "name": "conda-base-py"
  },
  "language_info": {
   "codemirror_mode": {
    "name": "ipython",
    "version": 3
   },
   "file_extension": ".py",
   "mimetype": "text/x-python",
   "name": "python",
   "nbconvert_exporter": "python",
   "pygments_lexer": "ipython3",
   "version": "3.12.7"
  }
 },
 "nbformat": 4,
 "nbformat_minor": 5
}
