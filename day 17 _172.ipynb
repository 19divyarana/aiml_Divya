{
 "cells": [
  {
   "cell_type": "code",
   "execution_count": 13,
   "id": "eda1f6e6-a215-42bb-acf5-d18547bee91d",
   "metadata": {},
   "outputs": [],
   "source": [
    "import pandas as pd\n",
    "import numpy as np\n",
    "import seaborn as sns\n",
    "import matplotlib.pyplot as plt\n",
    "from sklearn.impute import KNNImputer\n",
    "from sklearn.preprocessing import MinMaxScaler, StandardScaler, LabelEncoder"
   ]
  },
  {
   "cell_type": "code",
   "execution_count": 5,
   "id": "7824ec9c-2e35-4a04-a308-ef0904868fcf",
   "metadata": {},
   "outputs": [],
   "source": [
    "data=pd.read_csv(\"tours.csv\")"
   ]
  },
  {
   "cell_type": "code",
   "execution_count": 7,
   "id": "0459a332-9ce6-4a54-9f40-29b82234c821",
   "metadata": {},
   "outputs": [
    {
     "data": {
      "text/html": [
       "<div>\n",
       "<style scoped>\n",
       "    .dataframe tbody tr th:only-of-type {\n",
       "        vertical-align: middle;\n",
       "    }\n",
       "\n",
       "    .dataframe tbody tr th {\n",
       "        vertical-align: top;\n",
       "    }\n",
       "\n",
       "    .dataframe thead th {\n",
       "        text-align: right;\n",
       "    }\n",
       "</style>\n",
       "<table border=\"1\" class=\"dataframe\">\n",
       "  <thead>\n",
       "    <tr style=\"text-align: right;\">\n",
       "      <th></th>\n",
       "      <th>Booking_ID</th>\n",
       "      <th>Destination</th>\n",
       "      <th>Package_Price</th>\n",
       "      <th>Customer_Age</th>\n",
       "      <th>Rating</th>\n",
       "      <th>Review_Text</th>\n",
       "      <th>Travel_Date</th>\n",
       "    </tr>\n",
       "  </thead>\n",
       "  <tbody>\n",
       "    <tr>\n",
       "      <th>0</th>\n",
       "      <td>1</td>\n",
       "      <td>London</td>\n",
       "      <td>1094.0</td>\n",
       "      <td>21.0</td>\n",
       "      <td>NaN</td>\n",
       "      <td>Amazing experience!</td>\n",
       "      <td>2023-01-01</td>\n",
       "    </tr>\n",
       "    <tr>\n",
       "      <th>1</th>\n",
       "      <td>2</td>\n",
       "      <td>Paris</td>\n",
       "      <td>640.0</td>\n",
       "      <td>20.0</td>\n",
       "      <td>NaN</td>\n",
       "      <td>Loved the trip!</td>\n",
       "      <td>2023-01-02</td>\n",
       "    </tr>\n",
       "    <tr>\n",
       "      <th>2</th>\n",
       "      <td>3</td>\n",
       "      <td>Singapore</td>\n",
       "      <td>3393.0</td>\n",
       "      <td>42.0</td>\n",
       "      <td>3.0</td>\n",
       "      <td>Could be better</td>\n",
       "      <td>2023-01-03</td>\n",
       "    </tr>\n",
       "    <tr>\n",
       "      <th>3</th>\n",
       "      <td>4</td>\n",
       "      <td>London</td>\n",
       "      <td>3555.0</td>\n",
       "      <td>40.0</td>\n",
       "      <td>4.0</td>\n",
       "      <td>Amazing experience!</td>\n",
       "      <td>2023-01-04</td>\n",
       "    </tr>\n",
       "    <tr>\n",
       "      <th>4</th>\n",
       "      <td>5</td>\n",
       "      <td>Dubai</td>\n",
       "      <td>2130.0</td>\n",
       "      <td>44.0</td>\n",
       "      <td>2.0</td>\n",
       "      <td>Highly recommended</td>\n",
       "      <td>2023-01-05</td>\n",
       "    </tr>\n",
       "    <tr>\n",
       "      <th>...</th>\n",
       "      <td>...</td>\n",
       "      <td>...</td>\n",
       "      <td>...</td>\n",
       "      <td>...</td>\n",
       "      <td>...</td>\n",
       "      <td>...</td>\n",
       "      <td>...</td>\n",
       "    </tr>\n",
       "    <tr>\n",
       "      <th>500</th>\n",
       "      <td>441</td>\n",
       "      <td>New York</td>\n",
       "      <td>1600.0</td>\n",
       "      <td>64.0</td>\n",
       "      <td>3.0</td>\n",
       "      <td>Highly recommended</td>\n",
       "      <td>2024-03-16</td>\n",
       "    </tr>\n",
       "    <tr>\n",
       "      <th>501</th>\n",
       "      <td>487</td>\n",
       "      <td>Dubai</td>\n",
       "      <td>2875.0</td>\n",
       "      <td>66.0</td>\n",
       "      <td>4.0</td>\n",
       "      <td>Loved the trip!</td>\n",
       "      <td>2024-05-01</td>\n",
       "    </tr>\n",
       "    <tr>\n",
       "      <th>502</th>\n",
       "      <td>432</td>\n",
       "      <td>London</td>\n",
       "      <td>2532.0</td>\n",
       "      <td>21.0</td>\n",
       "      <td>3.0</td>\n",
       "      <td>Amazing experience!</td>\n",
       "      <td>2024-03-07</td>\n",
       "    </tr>\n",
       "    <tr>\n",
       "      <th>503</th>\n",
       "      <td>383</td>\n",
       "      <td>Dubai</td>\n",
       "      <td>1375.0</td>\n",
       "      <td>34.0</td>\n",
       "      <td>4.0</td>\n",
       "      <td>Highly recommended</td>\n",
       "      <td>2024-01-18</td>\n",
       "    </tr>\n",
       "    <tr>\n",
       "      <th>504</th>\n",
       "      <td>153</td>\n",
       "      <td>Paris</td>\n",
       "      <td>1391.0</td>\n",
       "      <td>18.0</td>\n",
       "      <td>1.0</td>\n",
       "      <td>Amazing experience!</td>\n",
       "      <td>2023-06-02</td>\n",
       "    </tr>\n",
       "  </tbody>\n",
       "</table>\n",
       "<p>505 rows × 7 columns</p>\n",
       "</div>"
      ],
      "text/plain": [
       "     Booking_ID Destination  Package_Price  Customer_Age  Rating  \\\n",
       "0             1      London         1094.0          21.0     NaN   \n",
       "1             2       Paris          640.0          20.0     NaN   \n",
       "2             3   Singapore         3393.0          42.0     3.0   \n",
       "3             4      London         3555.0          40.0     4.0   \n",
       "4             5       Dubai         2130.0          44.0     2.0   \n",
       "..          ...         ...            ...           ...     ...   \n",
       "500         441    New York         1600.0          64.0     3.0   \n",
       "501         487       Dubai         2875.0          66.0     4.0   \n",
       "502         432      London         2532.0          21.0     3.0   \n",
       "503         383       Dubai         1375.0          34.0     4.0   \n",
       "504         153       Paris         1391.0          18.0     1.0   \n",
       "\n",
       "             Review_Text Travel_Date  \n",
       "0    Amazing experience!  2023-01-01  \n",
       "1        Loved the trip!  2023-01-02  \n",
       "2        Could be better  2023-01-03  \n",
       "3    Amazing experience!  2023-01-04  \n",
       "4     Highly recommended  2023-01-05  \n",
       "..                   ...         ...  \n",
       "500   Highly recommended  2024-03-16  \n",
       "501      Loved the trip!  2024-05-01  \n",
       "502  Amazing experience!  2024-03-07  \n",
       "503   Highly recommended  2024-01-18  \n",
       "504  Amazing experience!  2023-06-02  \n",
       "\n",
       "[505 rows x 7 columns]"
      ]
     },
     "execution_count": 7,
     "metadata": {},
     "output_type": "execute_result"
    }
   ],
   "source": [
    "data"
   ]
  },
  {
   "cell_type": "code",
   "execution_count": 9,
   "id": "f06d0fd7-2626-4137-9559-e424ae72ed85",
   "metadata": {},
   "outputs": [
    {
     "name": "stdout",
     "output_type": "stream",
     "text": [
      "<class 'pandas.core.frame.DataFrame'>\n",
      "RangeIndex: 505 entries, 0 to 504\n",
      "Data columns (total 7 columns):\n",
      " #   Column         Non-Null Count  Dtype  \n",
      "---  ------         --------------  -----  \n",
      " 0   Booking_ID     505 non-null    int64  \n",
      " 1   Destination    478 non-null    object \n",
      " 2   Package_Price  485 non-null    float64\n",
      " 3   Customer_Age   490 non-null    float64\n",
      " 4   Rating         480 non-null    float64\n",
      " 5   Review_Text    485 non-null    object \n",
      " 6   Travel_Date    495 non-null    object \n",
      "dtypes: float64(3), int64(1), object(3)\n",
      "memory usage: 27.7+ KB\n"
     ]
    }
   ],
   "source": [
    "data.info()"
   ]
  },
  {
   "cell_type": "code",
   "execution_count": 11,
   "id": "44038f2f-2197-425e-8b10-d6a588ff343f",
   "metadata": {},
   "outputs": [
    {
     "data": {
      "text/plain": [
       "Booking_ID        0\n",
       "Destination      27\n",
       "Package_Price    20\n",
       "Customer_Age     15\n",
       "Rating           25\n",
       "Review_Text      20\n",
       "Travel_Date      10\n",
       "dtype: int64"
      ]
     },
     "execution_count": 11,
     "metadata": {},
     "output_type": "execute_result"
    }
   ],
   "source": [
    "data.isnull().sum()"
   ]
  },
  {
   "cell_type": "code",
   "execution_count": 17,
   "id": "896eb05a-b993-463d-a26e-26f47fcf1faf",
   "metadata": {},
   "outputs": [
    {
     "name": "stderr",
     "output_type": "stream",
     "text": [
      "C:\\Users\\user\\AppData\\Local\\Temp\\ipykernel_8332\\803128138.py:2: FutureWarning: A value is trying to be set on a copy of a DataFrame or Series through chained assignment using an inplace method.\n",
      "The behavior will change in pandas 3.0. This inplace method will never work because the intermediate object on which we are setting values always behaves as a copy.\n",
      "\n",
      "For example, when doing 'df[col].method(value, inplace=True)', try using 'df.method({col: value}, inplace=True)' or df[col] = df[col].method(value) instead, to perform the operation inplace on the original object.\n",
      "\n",
      "\n",
      "  data[column].fillna(data[column].median(), inplace=True)  # Median Imputation\n",
      "C:\\Users\\user\\AppData\\Local\\Temp\\ipykernel_8332\\803128138.py:4: FutureWarning: A value is trying to be set on a copy of a DataFrame or Series through chained assignment using an inplace method.\n",
      "The behavior will change in pandas 3.0. This inplace method will never work because the intermediate object on which we are setting values always behaves as a copy.\n",
      "\n",
      "For example, when doing 'df[col].method(value, inplace=True)', try using 'df.method({col: value}, inplace=True)' or df[col] = df[col].method(value) instead, to perform the operation inplace on the original object.\n",
      "\n",
      "\n",
      "  data['Destination'].fillna(data['Destination'].mode()[0], inplace=True)  # Mode Imputation\n",
      "C:\\Users\\user\\AppData\\Local\\Temp\\ipykernel_8332\\803128138.py:5: FutureWarning: A value is trying to be set on a copy of a DataFrame or Series through chained assignment using an inplace method.\n",
      "The behavior will change in pandas 3.0. This inplace method will never work because the intermediate object on which we are setting values always behaves as a copy.\n",
      "\n",
      "For example, when doing 'df[col].method(value, inplace=True)', try using 'df.method({col: value}, inplace=True)' or df[col] = df[col].method(value) instead, to perform the operation inplace on the original object.\n",
      "\n",
      "\n",
      "  data['Review_Text'].fillna(\"No Review\", inplace=True)\n",
      "C:\\Users\\user\\AppData\\Local\\Temp\\ipykernel_8332\\803128138.py:6: FutureWarning: A value is trying to be set on a copy of a DataFrame or Series through chained assignment using an inplace method.\n",
      "The behavior will change in pandas 3.0. This inplace method will never work because the intermediate object on which we are setting values always behaves as a copy.\n",
      "\n",
      "For example, when doing 'df[col].method(value, inplace=True)', try using 'df.method({col: value}, inplace=True)' or df[col] = df[col].method(value) instead, to perform the operation inplace on the original object.\n",
      "\n",
      "\n",
      "  data['Travel_Date'].fillna(method='ffill', inplace=True)\n",
      "C:\\Users\\user\\AppData\\Local\\Temp\\ipykernel_8332\\803128138.py:6: FutureWarning: Series.fillna with 'method' is deprecated and will raise in a future version. Use obj.ffill() or obj.bfill() instead.\n",
      "  data['Travel_Date'].fillna(method='ffill', inplace=True)\n"
     ]
    }
   ],
   "source": [
    "\n",
    "\n",
    "for column in ['Package_Price', 'Customer_Age', 'Rating']:\n",
    "    data[column].fillna(data[column].median(), inplace=True)  # Median Imputation\n",
    "\n",
    "data['Destination'].fillna(data['Destination'].mode()[0], inplace=True)  # Mode Imputation\n",
    "data['Review_Text'].fillna(\"No Review\", inplace=True)\n",
    "data['Travel_Date'].fillna(method='ffill', inplace=True)"
   ]
  },
  {
   "cell_type": "code",
   "execution_count": 19,
   "id": "bb3136f9-8eb2-4ebc-85fb-9544fb1ce085",
   "metadata": {},
   "outputs": [
    {
     "data": {
      "text/plain": [
       "Booking_ID       0\n",
       "Destination      0\n",
       "Package_Price    0\n",
       "Customer_Age     0\n",
       "Rating           0\n",
       "Review_Text      0\n",
       "Travel_Date      0\n",
       "dtype: int64"
      ]
     },
     "execution_count": 19,
     "metadata": {},
     "output_type": "execute_result"
    }
   ],
   "source": [
    "data.isnull().sum()"
   ]
  },
  {
   "cell_type": "code",
   "execution_count": null,
   "id": "a9973429-6fc8-4985-a5f3-bb605d6a0974",
   "metadata": {},
   "outputs": [],
   "source": [
    "imputer = KNNImputer(n_neighbors=5)\n",
    "data[['Package_Price', 'Customer_Age', 'Rating']] = imputer.fit_transform(da[['Package_Price', 'Customer_Age', 'Rating']])"
   ]
  }
 ],
 "metadata": {
  "kernelspec": {
   "display_name": "Python [conda env:base] *",
   "language": "python",
   "name": "conda-base-py"
  },
  "language_info": {
   "codemirror_mode": {
    "name": "ipython",
    "version": 3
   },
   "file_extension": ".py",
   "mimetype": "text/x-python",
   "name": "python",
   "nbconvert_exporter": "python",
   "pygments_lexer": "ipython3",
   "version": "3.12.7"
  }
 },
 "nbformat": 4,
 "nbformat_minor": 5
}
