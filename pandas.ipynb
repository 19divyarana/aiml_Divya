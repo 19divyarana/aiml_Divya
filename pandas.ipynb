{
 "cells": [
  {
   "cell_type": "code",
   "execution_count": 1,
   "id": "1c5023e6-8256-4c55-9f9d-457eb6246622",
   "metadata": {},
   "outputs": [],
   "source": [
    "#imp features of panda\n",
    "#data structure,data cleaning,indexing,slicing,data aggregation,transformation,data visualization,time-series handling,integration"
   ]
  },
  {
   "cell_type": "code",
   "execution_count": 9,
   "id": "3693ad8a-d3a8-4979-a75f-16c7c6c7d6f1",
   "metadata": {},
   "outputs": [],
   "source": [
    "import pandas as pd #import panda"
   ]
  },
  {
   "cell_type": "code",
   "execution_count": 13,
   "id": "ff881a4e-7296-4913-984b-4f1f638df005",
   "metadata": {},
   "outputs": [
    {
     "name": "stdout",
     "output_type": "stream",
     "text": [
      "0    10\n",
      "1    20\n",
      "2    30\n",
      "3    40\n",
      "4    50\n",
      "dtype: int64\n"
     ]
    }
   ],
   "source": [
    "#create panda series using list\n",
    "data=[10,20,30,40,50]\n",
    "series=pd.Series(data)\n",
    "print(series)"
   ]
  },
  {
   "cell_type": "code",
   "execution_count": 11,
   "id": "3e7f7e35-0976-4f15-bf61-4558b7a6ca3d",
   "metadata": {},
   "outputs": [
    {
     "name": "stdout",
     "output_type": "stream",
     "text": [
      "0     A\n",
      "1    20\n",
      "2    30\n",
      "3    40\n",
      "4    50\n",
      "dtype: object\n"
     ]
    }
   ],
   "source": [
    "data=[10,20,30,40,'A']\n",
    "series=pd.Series(data)\n",
    "print(series)"
   ]
  },
  {
   "cell_type": "code",
   "execution_count": 15,
   "id": "e141f446-262e-485a-b2cf-982c1bc57fef",
   "metadata": {},
   "outputs": [
    {
     "name": "stdout",
     "output_type": "stream",
     "text": [
      "A    10\n",
      "B    20\n",
      "C    30\n",
      "D    40\n",
      "E    50\n",
      "dtype: int64\n"
     ]
    }
   ],
   "source": [
    "data=[10,20,30,40,50] #custom index\n",
    "i=['A','B','C','D','E']\n",
    "series=pd.Series(data,index =i)\n",
    "print(series)\n",
    "\n"
   ]
  },
  {
   "cell_type": "code",
   "execution_count": 21,
   "id": "390203bd-b0e4-4047-8927-f9f3cc24833f",
   "metadata": {},
   "outputs": [
    {
     "name": "stdout",
     "output_type": "stream",
     "text": [
      "a    10\n",
      "b    20\n",
      "c    30\n",
      "d    40\n",
      "dtype: int64\n"
     ]
    }
   ],
   "source": [
    "data={'a':10,'b':20,'c':30,'d':40}\n",
    "series=pd.Series(data)\n",
    "print(series)"
   ]
  },
  {
   "cell_type": "code",
   "execution_count": 23,
   "id": "39bc7744-e1f5-4e51-b0ec-b079a65a0146",
   "metadata": {},
   "outputs": [
    {
     "data": {
      "text/plain": [
       "a    10\n",
       "b    50\n",
       "c    30\n",
       "d    40\n",
       "dtype: int64"
      ]
     },
     "execution_count": 23,
     "metadata": {},
     "output_type": "execute_result"
    }
   ],
   "source": [
    "series.replace(20,50) #replacing element"
   ]
  },
  {
   "cell_type": "code",
   "execution_count": 29,
   "id": "8e36fb31-094c-4934-9d20-79e7ee97d3bf",
   "metadata": {},
   "outputs": [
    {
     "name": "stdout",
     "output_type": "stream",
     "text": [
      "(i)      200\n",
      "(ii)     200\n",
      "(iii)    300\n",
      "(iv)     400\n",
      "dtype: int32\n"
     ]
    }
   ],
   "source": [
    "#create series using numpy\n",
    "import numpy as np\n",
    "data=np.array([200,200,300,400])\n",
    "series=pd.Series(data,index=['(i)','(ii)','(iii)','(iv)'])\n",
    "print(series)\n"
   ]
  },
  {
   "cell_type": "code",
   "execution_count": 35,
   "id": "d7141654-ea0e-4ad6-bb03-e5d65248026f",
   "metadata": {},
   "outputs": [
    {
     "name": "stdout",
     "output_type": "stream",
     "text": [
      "    Name  Age Country\n",
      "1  Alice   25     USA\n",
      "2    Bob   30      UK\n",
      "3   Mary   35     AUS\n"
     ]
    }
   ],
   "source": [
    "#create data frame from a dict\n",
    "data={'Name':['Alice','Bob','Mary'],'Age':[25,30,35],'Country':[\"USA\",'UK','AUS']}\n",
    "df=pd.DataFrame(data,index=[1,2,3])\n",
    "print(df)"
   ]
  },
  {
   "cell_type": "code",
   "execution_count": 51,
   "id": "dbedd7d3-8d0f-4fe0-8325-ea38d4c16156",
   "metadata": {},
   "outputs": [
    {
     "name": "stdout",
     "output_type": "stream",
     "text": [
      "[[1 2 3]\n",
      " [4 5 6]\n",
      " [7 8 9]]\n",
      "   i  ii  iii\n",
      "1  1   2    3\n",
      "2  4   5    6\n",
      "3  7   8    9\n"
     ]
    }
   ],
   "source": [
    "import numpy as np\n",
    "array=np.array([[1,2,3],[4,5,6],[7,8,9]])\n",
    "print(array)\n",
    "df=pd.DataFrame(array,columns=['i','ii','iii'],index=[1,2,3])\n",
    "print(df)"
   ]
  },
  {
   "cell_type": "code",
   "execution_count": 43,
   "id": "085e9298-41b9-430c-a6a9-139c7db30341",
   "metadata": {},
   "outputs": [
    {
     "name": "stdout",
     "output_type": "stream",
     "text": [
      "[[1 2 3]\n",
      " [4 5 6]\n",
      " [7 8 9]]\n",
      "   0  1  2\n",
      "0  1  2  3\n",
      "1  4  5  6\n",
      "2  7  8  9\n"
     ]
    }
   ],
   "source": [
    "import numpy as np\n",
    "array=np.array([[1,2,3],[4,5,6],[7,8,9]])\n",
    "print(array)\n",
    "df=pd.DataFrame(array)\n",
    "print(df)"
   ]
  },
  {
   "cell_type": "code",
   "execution_count": null,
   "id": "c4d94fa5-85a9-4ee1-a413-560b4eaf1522",
   "metadata": {},
   "outputs": [],
   "source": [
    "punc_marks=['\"',',','.']\n",
    "text=\"\"\"Sanjay’s hasn’t been an easy journey, but the joint effort of his family and, above all, the dogged determination of Sanjay himself, helped in his evolution from a reluctant learner to an accomplished artiste.\\\n",
    "It’s also about his well-wishers, mentors, audiences and fans.It’s fascinating to read how a playful boy from Mylapore gets initiated into music because of the deep-rooted socio-cultural milieu of his family. This five-decade long story is also about Carnatic music during the same period — besides Sanjay’s journey, you also get a ringside view of the lives of all the major characters in his life.\"\"\"\n",
    "for symbol in text:\n",
    "    if symbol in punc_marks:\n",
    "        text=text.replace(symbol,\"\")\n",
    "text"
   ]
  }
 ],
 "metadata": {
  "kernelspec": {
   "display_name": "Python [conda env:base] *",
   "language": "python",
   "name": "conda-base-py"
  },
  "language_info": {
   "codemirror_mode": {
    "name": "ipython",
    "version": 3
   },
   "file_extension": ".py",
   "mimetype": "text/x-python",
   "name": "python",
   "nbconvert_exporter": "python",
   "pygments_lexer": "ipython3",
   "version": "3.12.7"
  }
 },
 "nbformat": 4,
 "nbformat_minor": 5
}
