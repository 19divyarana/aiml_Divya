{
 "cells": [
  {
   "cell_type": "code",
   "execution_count": 13,
   "id": "0c025dc2-c687-4a6e-82dd-771fd215008b",
   "metadata": {},
   "outputs": [
    {
     "name": "stdout",
     "output_type": "stream",
     "text": [
      "[35.   6.  57.   9.8]\n",
      "<class 'numpy.ndarray'>\n",
      "float64\n"
     ]
    }
   ],
   "source": [
    "import numpy as np\n",
    "x=np.array([35,6,57,9.8])\n",
    "print(x)\n",
    "print(type(x))\n",
    "print(x.dtype)"
   ]
  },
  {
   "cell_type": "code",
   "execution_count": 17,
   "id": "153e5718-c03b-47dc-873d-64be8296e65b",
   "metadata": {},
   "outputs": [
    {
     "name": "stdout",
     "output_type": "stream",
     "text": [
      "[[23 45]\n",
      " [37 57]]\n",
      "<class 'numpy.ndarray'>\n"
     ]
    }
   ],
   "source": [
    "a2=np.array([[23,45],[37,57]])\n",
    "print(a2)\n",
    "print(type(a2))"
   ]
  },
  {
   "cell_type": "code",
   "execution_count": 21,
   "id": "1833a9d0-233e-4d63-a905-e27cb3f9c55c",
   "metadata": {},
   "outputs": [
    {
     "name": "stdout",
     "output_type": "stream",
     "text": [
      "[[10 20]\n",
      " [30 40]]\n",
      "(2, 2)\n"
     ]
    }
   ],
   "source": [
    "a =np.array([10,20,30,40])\n",
    "b=a.reshape(2,2)\n",
    "print(b)\n",
    "print(b.shape)"
   ]
  },
  {
   "cell_type": "code",
   "execution_count": 25,
   "id": "71ac4e66-02e6-47c3-8c30-20629984e874",
   "metadata": {},
   "outputs": [
    {
     "name": "stdout",
     "output_type": "stream",
     "text": [
      "[[10 20]\n",
      " [30 40]\n",
      " [50 60]]\n",
      "(3, 2)\n"
     ]
    }
   ],
   "source": [
    "a =np.array([10,20,30,40,50,60])\n",
    "b=a.reshape(3,2)\n",
    "print(b)\n",
    "print(b.shape)"
   ]
  },
  {
   "cell_type": "code",
   "execution_count": 29,
   "id": "6859da4b-be1b-404e-80fb-38b57aec62eb",
   "metadata": {},
   "outputs": [
    {
     "name": "stdout",
     "output_type": "stream",
     "text": [
      "[ 3  4  5  6  7  8  9 10 11 12 13 14 15 16 17 18 19]\n"
     ]
    },
    {
     "data": {
      "text/plain": [
       "numpy.ndarray"
      ]
     },
     "execution_count": 29,
     "metadata": {},
     "output_type": "execute_result"
    }
   ],
   "source": [
    "c=np.arange(3,20)\n",
    "print(c)\n",
    "type(c)"
   ]
  },
  {
   "cell_type": "code",
   "execution_count": 33,
   "id": "f9f10840-7deb-4880-97ba-2d28e86390c4",
   "metadata": {},
   "outputs": [
    {
     "name": "stdout",
     "output_type": "stream",
     "text": [
      "[1 2 3 4 5 6 7 8]\n"
     ]
    },
    {
     "data": {
      "text/plain": [
       "numpy.ndarray"
      ]
     },
     "execution_count": 33,
     "metadata": {},
     "output_type": "execute_result"
    }
   ],
   "source": [
    "c=np.arange(1,9)\n",
    "print(c)\n",
    "type(c)"
   ]
  },
  {
   "cell_type": "code",
   "execution_count": 35,
   "id": "f157c7ce-10ac-406b-9a81-144310b4aed5",
   "metadata": {},
   "outputs": [
    {
     "data": {
      "text/plain": [
       "array([1.35, 3.11, 4.91])"
      ]
     },
     "execution_count": 35,
     "metadata": {},
     "output_type": "execute_result"
    }
   ],
   "source": [
    "d=np.array([1.3467,3.10987,4.91236])\n",
    "np.around(d,2)"
   ]
  },
  {
   "cell_type": "code",
   "execution_count": 37,
   "id": "7d27aa4a-0408-4f9a-999c-470107a761d1",
   "metadata": {},
   "outputs": [
    {
     "name": "stdout",
     "output_type": "stream",
     "text": [
      "[1.16047404 1.76348235 2.21638444]\n"
     ]
    }
   ],
   "source": [
    "print(np.sqrt(d))"
   ]
  },
  {
   "cell_type": "code",
   "execution_count": 39,
   "id": "e57d77d3-8ffc-484c-97d8-e291e9d84bfc",
   "metadata": {},
   "outputs": [
    {
     "name": "stdout",
     "output_type": "stream",
     "text": [
      "[1.16 1.76 2.22]\n"
     ]
    }
   ],
   "source": [
    "print(np.around(np.sqrt(d),2))"
   ]
  },
  {
   "cell_type": "code",
   "execution_count": 47,
   "id": "56561738-db46-41d7-9349-6b5cb0201413",
   "metadata": {},
   "outputs": [
    {
     "name": "stdout",
     "output_type": "stream",
     "text": [
      "[[ 3.  4.  5.  8.]\n",
      " [ 7.  2.  8. nan]]\n"
     ]
    },
    {
     "data": {
      "text/plain": [
       "dtype('float64')"
      ]
     },
     "execution_count": 47,
     "metadata": {},
     "output_type": "execute_result"
    }
   ],
   "source": [
    "a1=np.array([[3,4,5,8],[7,2,8,np.NAN]])\n",
    "print(a1)\n",
    "a1.dtype"
   ]
  },
  {
   "cell_type": "code",
   "execution_count": 51,
   "id": "2e6a8089-8329-4c83-8ed3-d69de9d374d9",
   "metadata": {},
   "outputs": [
    {
     "data": {
      "text/plain": [
       "dtype('float64')"
      ]
     },
     "execution_count": 51,
     "metadata": {},
     "output_type": "execute_result"
    }
   ],
   "source": [
    "a1_copy1=a1.astype(float)\n",
    "a1_copy1.dtype\n",
    "            "
   ]
  },
  {
   "cell_type": "code",
   "execution_count": 53,
   "id": "0e227341-8f40-427c-879d-b779fdfc4b82",
   "metadata": {},
   "outputs": [
    {
     "name": "stdout",
     "output_type": "stream",
     "text": [
      "[['3.0' '4.0' '5.0' '8.0']\n",
      " ['7.0' '2.0' '8.0' 'nan']]\n"
     ]
    },
    {
     "data": {
      "text/plain": [
       "dtype('<U32')"
      ]
     },
     "execution_count": 53,
     "metadata": {},
     "output_type": "execute_result"
    }
   ],
   "source": [
    "a1_copy1=a1.astype(str)\n",
    "print(a1_copy1)\n",
    "a1_copy1.dtype\n",
    "            "
   ]
  },
  {
   "cell_type": "code",
   "execution_count": 55,
   "id": "8a04d8c7-35c6-4e1c-b491-1bd6d768e47d",
   "metadata": {},
   "outputs": [
    {
     "name": "stdout",
     "output_type": "stream",
     "text": [
      "[[ 3.+0.j  4.+0.j  5.+0.j  8.+0.j]\n",
      " [ 7.+0.j  2.+0.j  8.+0.j nan+0.j]]\n"
     ]
    },
    {
     "data": {
      "text/plain": [
       "dtype('complex128')"
      ]
     },
     "execution_count": 55,
     "metadata": {},
     "output_type": "execute_result"
    }
   ],
   "source": [
    "a1_copy1=a1.astype(complex)\n",
    "print(a1_copy1)\n",
    "a1_copy1.dtype\n",
    "            "
   ]
  },
  {
   "cell_type": "code",
   "execution_count": 59,
   "id": "fe526394-1032-4e9c-aa9b-9e37f5012147",
   "metadata": {},
   "outputs": [
    {
     "data": {
      "text/plain": [
       "array([[3, 4, 5],\n",
       "       [6, 7, 8],\n",
       "       [8, 9, 2]])"
      ]
     },
     "execution_count": 59,
     "metadata": {},
     "output_type": "execute_result"
    }
   ],
   "source": [
    "#mathematical operations \n",
    "a2=np.array([[3,4,5],[6,7,8],[8,9,2]])\n",
    "a2"
   ]
  },
  {
   "cell_type": "code",
   "execution_count": 61,
   "id": "21041517-b751-4d4a-b97e-d93f6617b978",
   "metadata": {},
   "outputs": [
    {
     "name": "stdout",
     "output_type": "stream",
     "text": [
      "[12 21 19]\n",
      "[17 20 15]\n"
     ]
    }
   ],
   "source": [
    "print(a2.sum(axis=1))\n",
    "print(a2.sum(axis=0))"
   ]
  },
  {
   "cell_type": "code",
   "execution_count": 73,
   "id": "980d6e3c-c5ac-4392-aee4-aac9654f56a1",
   "metadata": {},
   "outputs": [
    {
     "name": "stdout",
     "output_type": "stream",
     "text": [
      "[4.         7.         6.33333333]\n",
      "[5.66666667 6.66666667 5.        ]\n"
     ]
    }
   ],
   "source": [
    "print(np.mean(a2, axis=1))\n",
    "print(np.mean(a2, axis=0))"
   ]
  },
  {
   "cell_type": "code",
   "execution_count": 77,
   "id": "a3151150-8da1-447d-b016-6db7590cdd0f",
   "metadata": {},
   "outputs": [
    {
     "name": "stdout",
     "output_type": "stream",
     "text": [
      "[[3 4 5]\n",
      " [7 8 9]\n",
      " [2 6 9]]\n",
      "[[0 4 5]\n",
      " [7 0 9]\n",
      " [2 6 0]]\n"
     ]
    }
   ],
   "source": [
    "#matrix operation \n",
    "a3=np.array([[3,4,5],[7,8,9],[2,6,9]])\n",
    "print(a3)\n",
    "np.fill_diagonal(a3,0)\n",
    "print(a3)"
   ]
  },
  {
   "cell_type": "code",
   "execution_count": 85,
   "id": "e5964434-9117-49b6-90e0-c573a076a551",
   "metadata": {},
   "outputs": [
    {
     "name": "stdout",
     "output_type": "stream",
     "text": [
      "[[19 22]\n",
      " [43 50]]\n"
     ]
    }
   ],
   "source": [
    "a=np.array([[1,2],[3,4]])#multiplication matrix\n",
    "b=np.array([[5,6],[7,8]])\n",
    "c=np.matmul(a,b)\n",
    "print(c)"
   ]
  },
  {
   "cell_type": "code",
   "execution_count": 87,
   "id": "b26444fa-f929-4c47-b49f-c47357dbb5a7",
   "metadata": {},
   "outputs": [
    {
     "name": "stdout",
     "output_type": "stream",
     "text": [
      "[[1 3]\n",
      " [2 4]]\n",
      "[[5 7]\n",
      " [6 8]]\n"
     ]
    }
   ],
   "source": [
    "#print transpose\n",
    "print(a.T)\n",
    "print(b.T)"
   ]
  },
  {
   "cell_type": "code",
   "execution_count": 103,
   "id": "c57c25d2-4b50-43c6-99d0-5415046fdeb4",
   "metadata": {},
   "outputs": [
    {
     "data": {
      "text/plain": [
       "array([[ 3,  4,  5],\n",
       "       [ 7,  2,  8],\n",
       "       [ 9,  1,  6],\n",
       "       [10,  9, 18]])"
      ]
     },
     "execution_count": 103,
     "metadata": {},
     "output_type": "execute_result"
    }
   ],
   "source": [
    "a4=np.array([[3,4,5],[7,2,8],[9,1,6],[10,9,18]])\n",
    "a4"
   ]
  },
  {
   "cell_type": "code",
   "execution_count": 91,
   "id": "2c0ba2df-36ec-4858-b913-21cd89bc348c",
   "metadata": {},
   "outputs": [
    {
     "data": {
      "text/plain": [
       "4"
      ]
     },
     "execution_count": 91,
     "metadata": {},
     "output_type": "execute_result"
    }
   ],
   "source": [
    "a4[2][1]"
   ]
  },
  {
   "cell_type": "code",
   "execution_count": 93,
   "id": "6c090482-c5c9-464c-b6ff-3662cc539955",
   "metadata": {},
   "outputs": [
    {
     "data": {
      "text/plain": [
       "9"
      ]
     },
     "execution_count": 93,
     "metadata": {},
     "output_type": "execute_result"
    }
   ],
   "source": [
    "a4[3][2]"
   ]
  },
  {
   "cell_type": "code",
   "execution_count": 107,
   "id": "cf53d904-19d6-411b-b795-b62b3d60fce1",
   "metadata": {},
   "outputs": [
    {
     "data": {
      "text/plain": [
       "array([[ 4,  5],\n",
       "       [ 2,  8],\n",
       "       [ 1,  6],\n",
       "       [ 9, 18]])"
      ]
     },
     "execution_count": 107,
     "metadata": {},
     "output_type": "execute_result"
    }
   ],
   "source": [
    "a4[:,1:]#slicing"
   ]
  },
  {
   "cell_type": "code",
   "execution_count": 105,
   "id": "1e8e603d-dbea-4f33-8d3c-59efdd76bc90",
   "metadata": {},
   "outputs": [
    {
     "data": {
      "text/plain": [
       "array([[7, 2],\n",
       "       [9, 1]])"
      ]
     },
     "execution_count": 105,
     "metadata": {},
     "output_type": "execute_result"
    }
   ],
   "source": [
    "a4[1:3,0:2]"
   ]
  },
  {
   "cell_type": "code",
   "execution_count": null,
   "id": "080db382-e417-4caf-a0cb-11eed4b85323",
   "metadata": {},
   "outputs": [],
   "source": [
    " "
   ]
  }
 ],
 "metadata": {
  "kernelspec": {
   "display_name": "Python [conda env:base] *",
   "language": "python",
   "name": "conda-base-py"
  },
  "language_info": {
   "codemirror_mode": {
    "name": "ipython",
    "version": 3
   },
   "file_extension": ".py",
   "mimetype": "text/x-python",
   "name": "python",
   "nbconvert_exporter": "python",
   "pygments_lexer": "ipython3",
   "version": "3.12.7"
  }
 },
 "nbformat": 4,
 "nbformat_minor": 5
}
