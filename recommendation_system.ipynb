{
 "cells": [
  {
   "cell_type": "code",
   "execution_count": 3,
   "id": "e6f75b4b-4bf5-4699-b09a-0a58bcb32c5a",
   "metadata": {},
   "outputs": [],
   "source": [
    "import numpy as np\n",
    "from scipy.spatial.distance import cosine,euclidean\n",
    "from scipy.stats import pearsonr"
   ]
  },
  {
   "cell_type": "code",
   "execution_count": 5,
   "id": "17dfa5e5-2581-4c9e-aca9-52a8d71da87e",
   "metadata": {},
   "outputs": [],
   "source": [
    "user1=np.array([4,5,2,3,4])\n",
    "user2=np.array([5,3,2,4,5])"
   ]
  },
  {
   "cell_type": "code",
   "execution_count": 7,
   "id": "4b073aee-2c87-45f0-b715-9b0a5d64faa0",
   "metadata": {},
   "outputs": [
    {
     "name": "stdout",
     "output_type": "stream",
     "text": [
      "Cosine similarity: 0.9548\n"
     ]
    }
   ],
   "source": [
    "cosine_similarity=1-cosine(user1,user2)\n",
    "print(f\"Cosine similarity: {cosine_similarity:.4f}\")"
   ]
  },
  {
   "cell_type": "code",
   "execution_count": 9,
   "id": "f5ca1f31-5cb9-43fe-8331-b70aa47f7904",
   "metadata": {},
   "outputs": [
    {
     "name": "stdout",
     "output_type": "stream",
     "text": [
      "Pearson corr similarity: 0.4372\n"
     ]
    }
   ],
   "source": [
    "pearson_corr,_=pearsonr(user1,user2)\n",
    "print(f\"Pearson corr similarity: {pearson_corr:.4f}\")"
   ]
  },
  {
   "cell_type": "code",
   "execution_count": 15,
   "id": "fad06a29-2ad9-4370-a0af-2d99334df8d2",
   "metadata": {},
   "outputs": [
    {
     "name": "stdout",
     "output_type": "stream",
     "text": [
      "Euclidean distance similarity: 0.2743\n"
     ]
    }
   ],
   "source": [
    "euclidean_distance=euclidean(user1,user2)\n",
    "euclidean_similarity=1/(1+euclidean_distance)\n",
    "print(f\"Euclidean distance similarity: {euclidean_similarity:.4f}\")"
   ]
  },
  {
   "cell_type": "code",
   "execution_count": 19,
   "id": "cc31182c-3ef0-4e47-8ea4-ef2c8e9337ef",
   "metadata": {},
   "outputs": [],
   "source": [
    "user_raju=np.array([5,3,4,4,2])\n",
    "user_john=np.array([3,1,2,3,3])"
   ]
  },
  {
   "cell_type": "code",
   "execution_count": 25,
   "id": "09e3ea25-8433-4e8a-b796-dceac74f8637",
   "metadata": {},
   "outputs": [
    {
     "name": "stdout",
     "output_type": "stream",
     "text": [
      "Cosine similarity: 0.9297\n"
     ]
    }
   ],
   "source": [
    "cosine_similarity1=1-cosine(user_raju,user_john)\n",
    "print(f\"Cosine similarity: {cosine_similarity1:.4f}\")"
   ]
  },
  {
   "cell_type": "code",
   "execution_count": 27,
   "id": "902bcd4b-2589-4c48-923f-d70e8578a8f1",
   "metadata": {},
   "outputs": [],
   "source": [
    "user_raju=np.array([5,3,4,4,2])\n",
    "user_Ramya=np.array([4,3,4,5,1])"
   ]
  },
  {
   "cell_type": "code",
   "execution_count": 29,
   "id": "05587aa1-022f-4069-b091-72c4fc3fd8f8",
   "metadata": {},
   "outputs": [
    {
     "name": "stdout",
     "output_type": "stream",
     "text": [
      "Cosine similarity: 0.9783\n"
     ]
    }
   ],
   "source": [
    "cosine_similarity2=1-cosine(user_raju,user_Ramya)\n",
    "print(f\"Cosine similarity: {cosine_similarity2:.4f}\")"
   ]
  },
  {
   "cell_type": "code",
   "execution_count": 31,
   "id": "85625ef1-a12e-41e5-93cc-c80a2e5b4a64",
   "metadata": {},
   "outputs": [],
   "source": [
    "user_raju=np.array([5,3,4,4,2])\n",
    "user_kishore=np.array([2,2,1,2,4])"
   ]
  },
  {
   "cell_type": "code",
   "execution_count": 33,
   "id": "d0b2d25f-d39b-4f00-af0a-c8903784117f",
   "metadata": {},
   "outputs": [
    {
     "name": "stdout",
     "output_type": "stream",
     "text": [
      "Cosine similarity: 0.7990\n"
     ]
    }
   ],
   "source": [
    "cosine_similarity3=1-cosine(user_raju,user_kishore)\n",
    "print(f\"Cosine similarity: {cosine_similarity3:.4f}\")"
   ]
  },
  {
   "cell_type": "code",
   "execution_count": 37,
   "id": "b6b2311e-95db-4f07-b799-b822d423b643",
   "metadata": {},
   "outputs": [
    {
     "name": "stdout",
     "output_type": "stream",
     "text": [
      "         Bahubali  Mufasa  Interstellar  RRR  Mrs\n",
      "Raju            5       3             4    4    2\n",
      "John            3       1             2    3    3\n",
      "Ramya           4       3             4    5    1\n",
      "Kishore         2       2             1    2    4\n",
      "  User 1   User 2  Cosine Similarity  Pearson Correlation  \\\n",
      "0   Raju     John           0.929670             0.196116   \n",
      "1   Raju    Ramya           0.978337             0.838557   \n",
      "2   Raju  Kishore           0.799014            -0.720577   \n",
      "3   John    Ramya           0.885465             0.036860   \n",
      "4   John  Kishore           0.919145             0.408248   \n",
      "5  Ramya  Kishore           0.725961            -0.812605   \n",
      "\n",
      "   Euclidean Similarity  \n",
      "0              0.210897  \n",
      "1              0.366025  \n",
      "2              0.161390  \n",
      "3              0.195194  \n",
      "4              0.309017  \n",
      "5              0.150221  \n"
     ]
    }
   ],
   "source": [
    "import numpy as np\n",
    "import pandas as pd\n",
    "from scipy.spatial.distance import cosine, euclidean\n",
    "from scipy.stats import pearsonr\n",
    "\n",
    "#User-item rating matrix for 4 users\n",
    "ratings = np.array([\n",
    "    [5, 3, 4, 4, 2],  # User A\n",
    "    [3, 1, 2, 3, 3],  # User B\n",
    "    [4, 3, 4, 5, 1],  # User C\n",
    "    [2, 2, 1, 2, 4]   # User D\n",
    "])\n",
    "\n",
    "users = [\"Raju\", \"John\", \"Ramya\", \"Kishore\"]\n",
    "df = pd.DataFrame(ratings, index=users, columns=[\"Bahubali\",\"Mufasa\",\"Interstellar\",\"RRR\",\"Mrs\"])\n",
    "print(df)\n",
    "\n",
    "# Function to compute similarity\n",
    "def compute_similarity(df):\n",
    "    num_users = df.shape[0]\n",
    "    similarity_results = []\n",
    "\n",
    "    for i in range(num_users):\n",
    "        for j in range(i + 1, num_users):  # Avoid redundant pairs\n",
    "            user1, user2 = df.iloc[i], df.iloc[j]\n",
    "\n",
    "            # Cosine Similarity\n",
    "            cos_sim = 1 - cosine(user1, user2)\n",
    "\n",
    "            # Pearson Correlation Similarity\n",
    "            pearson_sim, _ = pearsonr(user1, user2)\n",
    "\n",
    "            # Euclidean Distance Similarity\n",
    "            euc_dist = euclidean(user1, user2)\n",
    "            euc_sim = 1 / (1 + euc_dist)  # Normalize to [0,1]\n",
    "\n",
    "            similarity_results.append([users[i], users[j], cos_sim, pearson_sim, euc_sim])\n",
    "\n",
    "    return pd.DataFrame(similarity_results, columns=[\"User 1\", \"User 2\", \"Cosine Similarity\", \"Pearson Correlation\", \"Euclidean Similarity\"])\n",
    "\n",
    "# Compute similarity matrix\n",
    "similarity_df = compute_similarity(df)\n",
    "\n",
    "# Display results\n",
    "print(similarity_df)"
   ]
  },
  {
   "cell_type": "code",
   "execution_count": null,
   "id": "500660ba-86b8-4d25-9560-5f84e58cd777",
   "metadata": {},
   "outputs": [],
   "source": []
  }
 ],
 "metadata": {
  "kernelspec": {
   "display_name": "Python [conda env:base] *",
   "language": "python",
   "name": "conda-base-py"
  },
  "language_info": {
   "codemirror_mode": {
    "name": "ipython",
    "version": 3
   },
   "file_extension": ".py",
   "mimetype": "text/x-python",
   "name": "python",
   "nbconvert_exporter": "python",
   "pygments_lexer": "ipython3",
   "version": "3.12.7"
  }
 },
 "nbformat": 4,
 "nbformat_minor": 5
}
