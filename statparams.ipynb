{
 "cells": [
  {
   "cell_type": "markdown",
   "id": "e0591f22-c198-442e-9368-c092cab2537f",
   "metadata": {},
   "source": [
    "def mean_value():\n",
    "def median_value():\n",
    "def mode_value():"
   ]
  },
  {
   "cell_type": "code",
   "execution_count": 49,
   "id": "a948e308-cbd1-4223-9d43-5bf895b1800e",
   "metadata": {},
   "outputs": [],
   "source": [
    "def mean_value(L):\n",
    "    avg=sum(L)/len(L)\n",
    "    return avg"
   ]
  },
  {
   "cell_type": "code",
   "execution_count": 51,
   "id": "4ca77e70-a80a-4fed-8797-3642a33839e3",
   "metadata": {},
   "outputs": [
    {
     "data": {
      "text/plain": [
       "30.0"
      ]
     },
     "execution_count": 51,
     "metadata": {},
     "output_type": "execute_result"
    }
   ],
   "source": [
    "mean_value([10,20,30,40,50])"
   ]
  },
  {
   "cell_type": "code",
   "execution_count": 61,
   "id": "2dddae0d-3fc5-47c9-8528-ce1d4635f042",
   "metadata": {},
   "outputs": [],
   "source": [
    "def mode_value(s):\n",
    "    mode=max(set(s),key=s.count)\n",
    "    return mode"
   ]
  },
  {
   "cell_type": "code",
   "execution_count": 63,
   "id": "5292ab2a-3331-4213-ae36-a673dd78bbf7",
   "metadata": {},
   "outputs": [
    {
     "data": {
      "text/plain": [
       "1"
      ]
     },
     "execution_count": 63,
     "metadata": {},
     "output_type": "execute_result"
    }
   ],
   "source": [
    "mode_value([1,2,3,1,4,1,5,1,2])"
   ]
  },
  {
   "cell_type": "code",
   "execution_count": 65,
   "id": "24d9f04f-4648-4559-a712-f4c693609791",
   "metadata": {},
   "outputs": [],
   "source": [
    "def mode_value(s):\n",
    "    mode=max(set(s),key=s.count)\n",
    "    return mode"
   ]
  },
  {
   "cell_type": "code",
   "execution_count": 67,
   "id": "56ccdbd2-20eb-455b-afe2-ef357a8d1d7f",
   "metadata": {},
   "outputs": [
    {
     "data": {
      "text/plain": [
       "'A'"
      ]
     },
     "execution_count": 67,
     "metadata": {},
     "output_type": "execute_result"
    }
   ],
   "source": [
    "mode_value([\"A\",\"B\",\"M\",\"A\",\"D\",\"A\",\"E\",\"A\",\"B\"])"
   ]
  },
  {
   "cell_type": "code",
   "execution_count": 139,
   "id": "6ea4f6d5-f894-4af3-bb85-25b2f77eeaf9",
   "metadata": {},
   "outputs": [],
   "source": [
    "def mode_value(L):\n",
    "    s=set(L)\n",
    "    d={}\n",
    "    for x in s:\n",
    "        d[x]=L.count(x)\n",
    "    m=max(d.values())\n",
    "    for k in d.keys():\n",
    "        if d[k] == m:\n",
    "            return k"
   ]
  },
  {
   "cell_type": "code",
   "execution_count": 141,
   "id": "157d5962-338b-4ce3-97ec-642d45ffd120",
   "metadata": {},
   "outputs": [
    {
     "data": {
      "text/plain": [
       "'A'"
      ]
     },
     "execution_count": 141,
     "metadata": {},
     "output_type": "execute_result"
    }
   ],
   "source": [
    "L=[\"A\",\"B\",\"M\",\"A\",\"D\",\"A\",\"E\",\"A\",\"B\"]\n",
    "mode_value(L)"
   ]
  },
  {
   "cell_type": "code",
   "execution_count": null,
   "id": "ba8677bb-0609-4462-8f74-d8c1548e3af8",
   "metadata": {},
   "outputs": [],
   "source": [
    "def mode_value(L):\n",
    "    s=set(L)\n",
    "    d={}\n",
    "    for x in s:\n",
    "        d[x]=L.count(x)\n",
    "    m=max(d.values())\n",
    "    for k in d.keys():\n",
    "        if d[k] == m:\n",
    "            return k"
   ]
  },
  {
   "cell_type": "code",
   "execution_count": 143,
   "id": "494282b5-b8da-4d1c-9c5f-60e6c2f5fe6a",
   "metadata": {},
   "outputs": [
    {
     "data": {
      "text/plain": [
       "1"
      ]
     },
     "execution_count": 143,
     "metadata": {},
     "output_type": "execute_result"
    }
   ],
   "source": [
    "L=[1,2,4,1,5,1,5,1,4]\n",
    "mode_value(L)"
   ]
  },
  {
   "cell_type": "code",
   "execution_count": null,
   "id": "0112709f-a9e2-41e6-abe8-e7739a08cd60",
   "metadata": {},
   "outputs": [],
   "source": []
  }
 ],
 "metadata": {
  "kernelspec": {
   "display_name": "Python [conda env:base] *",
   "language": "python",
   "name": "conda-base-py"
  },
  "language_info": {
   "codemirror_mode": {
    "name": "ipython",
    "version": 3
   },
   "file_extension": ".py",
   "mimetype": "text/x-python",
   "name": "python",
   "nbconvert_exporter": "python",
   "pygments_lexer": "ipython3",
   "version": "3.12.7"
  }
 },
 "nbformat": 4,
 "nbformat_minor": 5
}
