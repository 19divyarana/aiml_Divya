{
 "cells": [
  {
   "cell_type": "code",
   "execution_count": 1,
   "id": "61c6adff-f908-4aba-9832-773014c9cd88",
   "metadata": {},
   "outputs": [
    {
     "data": {
      "text/plain": [
       "['__class__',\n",
       " '__class_getitem__',\n",
       " '__contains__',\n",
       " '__delattr__',\n",
       " '__delitem__',\n",
       " '__dir__',\n",
       " '__doc__',\n",
       " '__eq__',\n",
       " '__format__',\n",
       " '__ge__',\n",
       " '__getattribute__',\n",
       " '__getitem__',\n",
       " '__getstate__',\n",
       " '__gt__',\n",
       " '__hash__',\n",
       " '__init__',\n",
       " '__init_subclass__',\n",
       " '__ior__',\n",
       " '__iter__',\n",
       " '__le__',\n",
       " '__len__',\n",
       " '__lt__',\n",
       " '__ne__',\n",
       " '__new__',\n",
       " '__or__',\n",
       " '__reduce__',\n",
       " '__reduce_ex__',\n",
       " '__repr__',\n",
       " '__reversed__',\n",
       " '__ror__',\n",
       " '__setattr__',\n",
       " '__setitem__',\n",
       " '__sizeof__',\n",
       " '__str__',\n",
       " '__subclasshook__',\n",
       " 'clear',\n",
       " 'copy',\n",
       " 'fromkeys',\n",
       " 'get',\n",
       " 'items',\n",
       " 'keys',\n",
       " 'pop',\n",
       " 'popitem',\n",
       " 'setdefault',\n",
       " 'update',\n",
       " 'values']"
      ]
     },
     "execution_count": 1,
     "metadata": {},
     "output_type": "execute_result"
    }
   ],
   "source": [
    "dir(dict)\n"
   ]
  },
  {
   "cell_type": "code",
   "execution_count": 7,
   "id": "79f301ac-0244-4cbe-8844-734103232bfd",
   "metadata": {},
   "outputs": [
    {
     "name": "stdout",
     "output_type": "stream",
     "text": [
      "{'Virat': 90, 'Rohit': 100, 'Rahul': 70, 'Hardik': 9, 'Gill': 20, 'Jadeja': 30, 'Siraz': 15, 'Aswin': 15}\n"
     ]
    }
   ],
   "source": [
    "scores={\"Virat\":90,\n",
    "        \"Rohit\":100,\n",
    "        \"Rahul\":70,\n",
    "        \"Hardik\":9,\n",
    "        \"Gill\":20,\n",
    "        \"Jadeja\":30,\n",
    "        \"Siraz\":15}\n",
    "scores[\"Aswin\"]=15\n",
    "print(scores)"
   ]
  },
  {
   "cell_type": "code",
   "execution_count": 4,
   "id": "05cd4f57-eadd-45f0-bd64-4b456b4d220a",
   "metadata": {
    "jupyter": {
     "source_hidden": true
    }
   },
   "outputs": [
    {
     "data": {
      "text/plain": [
       "{'Virat': 90,\n",
       " 'Rohit': 100,\n",
       " 'Rahul': 70,\n",
       " 'Hardik': 9,\n",
       " 'Gill': 20,\n",
       " 'Jadeja': 50,\n",
       " 'Siraz': 15}"
      ]
     },
     "execution_count": 4,
     "metadata": {},
     "output_type": "execute_result"
    }
   ],
   "source": [
    "scores={\"Virat\":90,\n",
    "        \"Rohit\":100,\n",
    "        \"Rahul\":70,\n",
    "        \"Hardik\":9,\n",
    "        \"Gill\":20,\n",
    "        \"Jadeja\":30,\n",
    "        \"Siraz\":15}\n",
    "scores.update({\"Jadeja\":50})\n",
    "scores\n",
    "              "
   ]
  },
  {
   "cell_type": "code",
   "execution_count": 6,
   "id": "7ff9fea3-86ac-490c-af1d-3719ff7fc32e",
   "metadata": {},
   "outputs": [
    {
     "data": {
      "text/plain": [
       "{'Virat': 90,\n",
       " 'Rohit': 100,\n",
       " 'Rahul': 70,\n",
       " 'Hardik': 65,\n",
       " 'Gill': 20,\n",
       " 'Jadeja': 50,\n",
       " 'Siraz': 15,\n",
       " 'Rahane': 45}"
      ]
     },
     "execution_count": 6,
     "metadata": {},
     "output_type": "execute_result"
    }
   ],
   "source": [
    "scores.update({\"Hardik\":65,\"Rahane\":45})\n",
    "scores\n"
   ]
  },
  {
   "cell_type": "code",
   "execution_count": 10,
   "id": "c2957eee-9c51-4b2c-aa83-db45fdca2c69",
   "metadata": {},
   "outputs": [
    {
     "data": {
      "text/plain": [
       "{'Virat': 90,\n",
       " 'Rohit': 100,\n",
       " 'Rahul': 70,\n",
       " 'Hardik': 65,\n",
       " 'Gill': 20,\n",
       " 'Jadeja': 50,\n",
       " 'Siraz': 15,\n",
       " 'Rahane': 45}"
      ]
     },
     "execution_count": 10,
     "metadata": {},
     "output_type": "execute_result"
    }
   ],
   "source": [
    "scores.setdefault(\"Rahul\",60)\n",
    "scores"
   ]
  },
  {
   "cell_type": "code",
   "execution_count": 12,
   "id": "55834a41-2f22-4384-b984-88de1a9bbd1c",
   "metadata": {},
   "outputs": [
    {
     "data": {
      "text/plain": [
       "{'Virat': 90,\n",
       " 'Rohit': 100,\n",
       " 'Rahul': 70,\n",
       " 'Hardik': 65,\n",
       " 'Gill': 20,\n",
       " 'Jadeja': 50,\n",
       " 'Siraz': 15,\n",
       " 'Rahane': 45,\n",
       " 'Pujara': 50}"
      ]
     },
     "execution_count": 12,
     "metadata": {},
     "output_type": "execute_result"
    }
   ],
   "source": [
    "scores.setdefault(\"Pujara\",50)\n",
    "scores\n"
   ]
  },
  {
   "cell_type": "code",
   "execution_count": 14,
   "id": "042268e1-7e6b-4455-9f9f-1c2c548de6c3",
   "metadata": {},
   "outputs": [
    {
     "data": {
      "text/plain": [
       "{'Virat': 90,\n",
       " 'Rohit': 100,\n",
       " 'Rahul': 70,\n",
       " 'Hardik': 65,\n",
       " 'Gill': 20,\n",
       " 'Jadeja': 50,\n",
       " 'Siraz': 15,\n",
       " 'Rahane': 45}"
      ]
     },
     "execution_count": 14,
     "metadata": {},
     "output_type": "execute_result"
    }
   ],
   "source": [
    "scores.popitem()\n",
    "scores"
   ]
  },
  {
   "cell_type": "code",
   "execution_count": 22,
   "id": "d20d4da3-44fa-4f0e-8b3b-23c18cea712d",
   "metadata": {},
   "outputs": [
    {
     "data": {
      "text/plain": [
       "{'Virat': 90,\n",
       " 'Rohit': 100,\n",
       " 'Rahul': 70,\n",
       " 'Hardik': 65,\n",
       " 'Gill': 20,\n",
       " 'Siraz': 15,\n",
       " 'Rahane': 45}"
      ]
     },
     "execution_count": 22,
     "metadata": {},
     "output_type": "execute_result"
    }
   ],
   "source": [
    "scores.pop(\"Jadeja\",50)\n",
    "scores\n"
   ]
  },
  {
   "cell_type": "code",
   "execution_count": 24,
   "id": "c45d8adb-7c6b-40c6-9e0c-ea979715f395",
   "metadata": {},
   "outputs": [
    {
     "data": {
      "text/plain": [
       "15"
      ]
     },
     "execution_count": 24,
     "metadata": {},
     "output_type": "execute_result"
    }
   ],
   "source": [
    "scores.get(\"Siraz\")"
   ]
  },
  {
   "cell_type": "code",
   "execution_count": 28,
   "id": "6cccab97-bda8-440a-8922-a4ac1c1ba021",
   "metadata": {},
   "outputs": [
    {
     "data": {
      "text/plain": [
       "{'A': None, 'B': None, 'C': None, 'D': None}"
      ]
     },
     "execution_count": 28,
     "metadata": {},
     "output_type": "execute_result"
    }
   ],
   "source": [
    "list1=[\"A\",\"B\",\"C\",\"D\"]\n",
    "my_dict=dict.fromkeys(list1)\n",
    "my_dict"
   ]
  },
  {
   "cell_type": "code",
   "execution_count": 36,
   "id": "1d6a6d55-24eb-463a-9e7d-4466e6bcb430",
   "metadata": {},
   "outputs": [
    {
     "data": {
      "text/plain": [
       "{'A': 20, 'B': None, 'C': None, 'D': None}"
      ]
     },
     "execution_count": 36,
     "metadata": {},
     "output_type": "execute_result"
    }
   ],
   "source": [
    "list1=[\"A\",\"B\",\"C\",\"D\"]\n",
    "my_dict=dict.fromkeys(list1)\n",
    "my_dict.update({\"A\":20})\n",
    "my_dict"
   ]
  },
  {
   "cell_type": "code",
   "execution_count": 38,
   "id": "bb6eefa5-21e1-4171-9dd4-4cfb9714dec0",
   "metadata": {},
   "outputs": [
    {
     "data": {
      "text/plain": [
       "{'Virat': 90,\n",
       " 'Rohit': 100,\n",
       " 'Rahul': 70,\n",
       " 'Hardik': 19,\n",
       " 'Gill': 20,\n",
       " 'Siraz': 15,\n",
       " 'Rahane': 45}"
      ]
     },
     "execution_count": 38,
     "metadata": {},
     "output_type": "execute_result"
    }
   ],
   "source": [
    "for k in scores.keys():\n",
    "    if k =='Hardik':\n",
    "        scores[k]=19\n",
    "scores"
   ]
  },
  {
   "cell_type": "code",
   "execution_count": 42,
   "id": "a3bfd856-c138-45d7-b571-c06123b6f683",
   "metadata": {},
   "outputs": [
    {
     "name": "stdout",
     "output_type": "stream",
     "text": [
      "[90, 100, 70, 19, 20, 15, 45]\n",
      "Total Score:  359\n"
     ]
    }
   ],
   "source": [
    "scores_list=[]\n",
    "for v in scores.values():\n",
    "    scores_list.append(v)\n",
    "print(scores_list)\n",
    "print(\"Total Score: \",sum(scores_list))"
   ]
  },
  {
   "cell_type": "code",
   "execution_count": null,
   "id": "a3a926d8-70f8-4fb8-8a4d-0e00821e4ae7",
   "metadata": {},
   "outputs": [],
   "source": []
  }
 ],
 "metadata": {
  "kernelspec": {
   "display_name": "Python [conda env:base] *",
   "language": "python",
   "name": "conda-base-py"
  },
  "language_info": {
   "codemirror_mode": {
    "name": "ipython",
    "version": 3
   },
   "file_extension": ".py",
   "mimetype": "text/x-python",
   "name": "python",
   "nbconvert_exporter": "python",
   "pygments_lexer": "ipython3",
   "version": "3.12.7"
  }
 },
 "nbformat": 4,
 "nbformat_minor": 5
}
