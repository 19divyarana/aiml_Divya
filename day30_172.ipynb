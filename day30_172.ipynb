{
 "cells": [
  {
   "cell_type": "code",
   "execution_count": 13,
   "id": "caa9bec7-0a4d-43a1-a74f-f4cc78d6faf7",
   "metadata": {},
   "outputs": [],
   "source": [
    "import pandas as pd\n",
    "import numpy as np\n",
    "import seaborn as sns\n",
    "import matplotlib.pyplot as plt\n",
    "from mlxtend.frequent_patterns import apriori, association_rules\n",
    "from mlxtend.preprocessing import TransactionEncoder"
   ]
  },
  {
   "cell_type": "code",
   "execution_count": 15,
   "id": "57220da4-ff49-4e49-8d1c-9b8a933f5490",
   "metadata": {},
   "outputs": [
    {
     "data": {
      "text/html": [
       "<div>\n",
       "<style scoped>\n",
       "    .dataframe tbody tr th:only-of-type {\n",
       "        vertical-align: middle;\n",
       "    }\n",
       "\n",
       "    .dataframe tbody tr th {\n",
       "        vertical-align: top;\n",
       "    }\n",
       "\n",
       "    .dataframe thead th {\n",
       "        text-align: right;\n",
       "    }\n",
       "</style>\n",
       "<table border=\"1\" class=\"dataframe\">\n",
       "  <thead>\n",
       "    <tr style=\"text-align: right;\">\n",
       "      <th></th>\n",
       "      <th>Transaction_ID</th>\n",
       "      <th>Items</th>\n",
       "    </tr>\n",
       "  </thead>\n",
       "  <tbody>\n",
       "    <tr>\n",
       "      <th>0</th>\n",
       "      <td>1</td>\n",
       "      <td>Pasta, Milk, Eggs</td>\n",
       "    </tr>\n",
       "    <tr>\n",
       "      <th>1</th>\n",
       "      <td>2</td>\n",
       "      <td>Carrots, Bananas, Tomato Sauce</td>\n",
       "    </tr>\n",
       "    <tr>\n",
       "      <th>2</th>\n",
       "      <td>3</td>\n",
       "      <td>Tomato Sauce, Carrots, Cheese</td>\n",
       "    </tr>\n",
       "    <tr>\n",
       "      <th>3</th>\n",
       "      <td>4</td>\n",
       "      <td>Butter, Rice, Potatoes</td>\n",
       "    </tr>\n",
       "    <tr>\n",
       "      <th>4</th>\n",
       "      <td>5</td>\n",
       "      <td>Tea, Apples, Pasta, Orange Juice, Bread, Eggs</td>\n",
       "    </tr>\n",
       "    <tr>\n",
       "      <th>...</th>\n",
       "      <td>...</td>\n",
       "      <td>...</td>\n",
       "    </tr>\n",
       "    <tr>\n",
       "      <th>95</th>\n",
       "      <td>96</td>\n",
       "      <td>Rice, Sugar, Cheese</td>\n",
       "    </tr>\n",
       "    <tr>\n",
       "      <th>96</th>\n",
       "      <td>97</td>\n",
       "      <td>Potatoes, Carrots, Bread, Apples</td>\n",
       "    </tr>\n",
       "    <tr>\n",
       "      <th>97</th>\n",
       "      <td>98</td>\n",
       "      <td>Eggs, Sugar, Bread, Cereal, Yogurt</td>\n",
       "    </tr>\n",
       "    <tr>\n",
       "      <th>98</th>\n",
       "      <td>99</td>\n",
       "      <td>Apples, Butter, Tomato Sauce, Yogurt</td>\n",
       "    </tr>\n",
       "    <tr>\n",
       "      <th>99</th>\n",
       "      <td>100</td>\n",
       "      <td>Apples, Carrots, Pasta, Cheese, Bread</td>\n",
       "    </tr>\n",
       "  </tbody>\n",
       "</table>\n",
       "<p>100 rows × 2 columns</p>\n",
       "</div>"
      ],
      "text/plain": [
       "    Transaction_ID                                          Items\n",
       "0                1                              Pasta, Milk, Eggs\n",
       "1                2                 Carrots, Bananas, Tomato Sauce\n",
       "2                3                  Tomato Sauce, Carrots, Cheese\n",
       "3                4                         Butter, Rice, Potatoes\n",
       "4                5  Tea, Apples, Pasta, Orange Juice, Bread, Eggs\n",
       "..             ...                                            ...\n",
       "95              96                            Rice, Sugar, Cheese\n",
       "96              97               Potatoes, Carrots, Bread, Apples\n",
       "97              98             Eggs, Sugar, Bread, Cereal, Yogurt\n",
       "98              99           Apples, Butter, Tomato Sauce, Yogurt\n",
       "99             100          Apples, Carrots, Pasta, Cheese, Bread\n",
       "\n",
       "[100 rows x 2 columns]"
      ]
     },
     "execution_count": 15,
     "metadata": {},
     "output_type": "execute_result"
    }
   ],
   "source": [
    "df=pd.read_csv(\"marketbasket.csv\")\n",
    "df"
   ]
  },
  {
   "cell_type": "code",
   "execution_count": 5,
   "id": "30f7d745-4fbe-4fd2-8665-662004cec15a",
   "metadata": {},
   "outputs": [
    {
     "name": "stdout",
     "output_type": "stream",
     "text": [
      "<class 'pandas.core.frame.DataFrame'>\n",
      "RangeIndex: 100 entries, 0 to 99\n",
      "Data columns (total 2 columns):\n",
      " #   Column          Non-Null Count  Dtype \n",
      "---  ------          --------------  ----- \n",
      " 0   Transaction_ID  100 non-null    int64 \n",
      " 1   Items           100 non-null    object\n",
      "dtypes: int64(1), object(1)\n",
      "memory usage: 1.7+ KB\n"
     ]
    }
   ],
   "source": [
    "df.info()"
   ]
  },
  {
   "cell_type": "code",
   "execution_count": 9,
   "id": "7b526e7e-8309-4c25-bc01-f39406dc0fba",
   "metadata": {},
   "outputs": [
    {
     "name": "stdout",
     "output_type": "stream",
     "text": [
      "Most Frequently Purchased Items:\n",
      "Items\n",
      "Yogurt          20\n",
      "Pasta           20\n",
      "Cereal          17\n",
      "Milk            17\n",
      "Orange Juice    17\n",
      "Name: count, dtype: int64\n"
     ]
    }
   ],
   "source": [
    "item_counts = df['Items'].str.split(',').explode().value_counts()\n",
    "print(\"Most Frequently Purchased Items:\")\n",
    "print(item_counts.head())"
   ]
  },
  {
   "cell_type": "code",
   "execution_count": 17,
   "id": "ce1822fc-84a5-4e50-adaa-d282487e61a6",
   "metadata": {},
   "outputs": [],
   "source": [
    "transactions = df['Items'].apply(lambda x: x.split(','))\n",
    "te = TransactionEncoder()\n",
    "te_ary = te.fit(transactions).transform(transactions)\n",
    "df_encoded = pd.DataFrame(te_ary, columns=te.columns_)"
   ]
  },
  {
   "cell_type": "code",
   "execution_count": 19,
   "id": "75365212-b95c-4b8a-b529-43688a75e558",
   "metadata": {},
   "outputs": [
    {
     "name": "stdout",
     "output_type": "stream",
     "text": [
      "Frequent Itemsets:\n",
      "    support         itemsets\n",
      "0      0.12        ( Apples)\n",
      "1      0.13       ( Bananas)\n",
      "2      0.12         ( Bread)\n",
      "3      0.15        ( Butter)\n",
      "4      0.15       ( Carrots)\n",
      "5      0.17        ( Cereal)\n",
      "6      0.17        ( Cheese)\n",
      "7      0.15       ( Chicken)\n",
      "8      0.17        ( Coffee)\n",
      "9      0.14          ( Eggs)\n",
      "10     0.17          ( Milk)\n",
      "11     0.15        ( Onions)\n",
      "12     0.17  ( Orange Juice)\n",
      "13     0.20         ( Pasta)\n",
      "14     0.10      ( Potatoes)\n",
      "15     0.15          ( Rice)\n",
      "16     0.13         ( Sugar)\n",
      "17     0.15           ( Tea)\n",
      "18     0.17  ( Tomato Sauce)\n",
      "19     0.20        ( Yogurt)\n",
      "20     0.10           (Eggs)\n",
      "21     0.10            (Tea)\n"
     ]
    }
   ],
   "source": [
    "frequent_itemsets = apriori(df_encoded, min_support=0.1, use_colnames=True)\n",
    "print(\"Frequent Itemsets:\")\n",
    "print(frequent_itemsets)"
   ]
  },
  {
   "cell_type": "code",
   "execution_count": 21,
   "id": "1445108d-1f21-4a6d-8e4a-58c9d7ad7347",
   "metadata": {},
   "outputs": [
    {
     "name": "stdout",
     "output_type": "stream",
     "text": [
      "Top Association Rules:\n",
      "Empty DataFrame\n",
      "Columns: [antecedents, consequents, antecedent support, consequent support, support, confidence, lift, representativity, leverage, conviction, zhangs_metric, jaccard, certainty, kulczynski]\n",
      "Index: []\n"
     ]
    }
   ],
   "source": [
    "rules = association_rules(frequent_itemsets, metric=\"lift\", min_threshold=1.0)\n",
    "rules = rules.sort_values(by=\"confidence\", ascending=False)\n",
    "print(\"Top Association Rules:\")\n",
    "print(rules.head())\n"
   ]
  },
  {
   "cell_type": "code",
   "execution_count": 31,
   "id": "7d66b466-9a1d-459b-b0fd-597c5e238f43",
   "metadata": {},
   "outputs": [
    {
     "data": {
      "image/png": "[encoded data removed]",
      "text/plain": [
       "<Figure size 800x600 with 1 Axes>"
      ]
     },
     "metadata": {},
     "output_type": "display_data"
    }
   ],
   "source": [
    "\n",
    "\n",
    "plt.figure(figsize=(8, 6))\n",
    "sns.barplot(x=rules['confidence'], y=rules['antecedents'].astype(str) + \" -> \" + rules['consequents'].astype(str))\n",
    "plt.xlabel(\"Confidence\")\n",
    "plt.ylabel(\"Association Rule\")\n",
    "plt.title(\"Top 5 Association Rules by Confidence\")\n",
    "plt.show()"
   ]
  },
  {
   "cell_type": "code",
   "execution_count": null,
   "id": "207a4f0d-8a17-4598-8b37-b306f4cf101b",
   "metadata": {},
   "outputs": [],
   "source": []
  }
 ],
 "metadata": {
  "kernelspec": {
   "display_name": "Python [conda env:base] *",
   "language": "python",
   "name": "conda-base-py"
  },
  "language_info": {
   "codemirror_mode": {
    "name": "ipython",
    "version": 3
   },
   "file_extension": ".py",
   "mimetype": "text/x-python",
   "name": "python",
   "nbconvert_exporter": "python",
   "pygments_lexer": "ipython3",
   "version": "3.12.7"
  }
 },
 "nbformat": 4,
 "nbformat_minor": 5
}
